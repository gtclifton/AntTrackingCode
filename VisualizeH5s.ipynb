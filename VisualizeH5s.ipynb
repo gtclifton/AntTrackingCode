{
 "cells": [
  {
   "cell_type": "code",
   "execution_count": 1,
   "metadata": {},
   "outputs": [
    {
     "name": "stderr",
     "output_type": "stream",
     "text": [
      "/home/gravishlab/.virtualenvs/ants/lib/python3.6/site-packages/h5py/__init__.py:36: FutureWarning: Conversion of the second argument of issubdtype from `float` to `np.floating` is deprecated. In future, it will be treated as `np.float64 == np.dtype(float).type`.\n",
      "  from ._conv import register_converters as _register_converters\n"
     ]
    },
    {
     "name": "stdout",
     "output_type": "stream",
     "text": [
      "Using matplotlib backend: Qt5Agg\n"
     ]
    }
   ],
   "source": [
    "import numpy as np\n",
    "import os\n",
    "import sys\n",
    "import glob\n",
    "\n",
    "import h5py\n",
    "\n",
    "\n",
    "\n",
    "# %qtconsole\n",
    "%matplotlib qt5\n",
    "%matplotlib auto\n",
    "import matplotlib.pyplot as plt\n",
    "from matplotlib import cm\n",
    "from matplotlib import colors\n",
    "# import matplotlib\n",
    "# matplotlib.use('TkAgg')\n",
    "\n",
    "\n",
    "from multiprocessing import Process\n",
    "import threading\n",
    "# import getpass\n"
   ]
  },
  {
   "cell_type": "code",
   "execution_count": 2,
   "metadata": {},
   "outputs": [],
   "source": [
    "%qtconsole"
   ]
  },
  {
   "cell_type": "code",
   "execution_count": 2,
   "metadata": {},
   "outputs": [],
   "source": [
    "    \n",
    "vid_locations = '/media/gravishlab/SeagateExpansionDrive/AntTrack/'\n",
    "\n",
    "# LOAD IN DATA FROM PICKLE OR FEATHER (SKIP ALL NEXT DATAFRAME SECTIONS)\n",
    "# start_time = time.time()\n",
    "# df = pd.read_pickle(vid_locations + 'AllTracks')\n",
    "# print('read in all trackways pickle -- duration: ', time.time()-start_time)\n",
    "# start_time = time.time()\n",
    "# longtracks = pd.read_pickle(vid_locations + 'LongTracks')\n",
    "# print('read in all trackways pickle -- duration: ', time.time()-start_time)"
   ]
  },
  {
   "cell_type": "markdown",
   "metadata": {},
   "source": [
    "## Build file list of tracked data\n",
    "\n",
    "Important to note. For this first pass analysis lets only look at videos from camera 1."
   ]
  },
  {
   "cell_type": "code",
   "execution_count": 4,
   "metadata": {},
   "outputs": [
    {
     "name": "stdout",
     "output_type": "stream",
     "text": [
      "Total Number of Videos:  9594\n"
     ]
    },
    {
     "data": {
      "text/plain": [
       "9594"
      ]
     },
     "execution_count": 4,
     "metadata": {},
     "output_type": "execute_result"
    }
   ],
   "source": [
    "file_list = []\n",
    "# for root, dirs, files in os.walk(vid_locations):\n",
    "#     for file in files:\n",
    "#         if(os.path.splitext(file)[1] == '.avi' and # only avi files\n",
    "#            os.path.basename(file)[0] != '5'):      # dont track video 5\n",
    "#             file_list.append(os.path.join(root, file))\n",
    "# len(file_list)\n",
    "\n",
    "\n",
    "# # glob is like dir in matlab, it searches for files\n",
    "# file_list = glob.glob(os.path.join(vid_locations, '**/*12-0000.avi'))\n",
    "# file_list = glob.glob(os.path.join(vid_locations, '*clear/*12-0000.avi'))\n",
    "# file_list = glob.glob(os.path.join(vid_locations, '2mm_clear/*12-0000.avi'))\n",
    "file_list = glob.glob(os.path.join(vid_locations, '**/**/*0000.mp4'))\n",
    "# file_list = glob.glob(os.path.join(vid_locations, 'Tunnel_20180313-14/**/*0000.avi'))\n",
    "file_list = sorted(file_list)\n",
    "\n",
    "print('Total Number of Videos: ',len(file_list))\n",
    "# file_list = sorted(file_list)[0:4] #[::20] #[0:3000:5]\n",
    "# file_list = file_list[0:15] +file_list[278:292] +file_list[578:592] +file_list[878:902]\n",
    "                \n",
    "len(file_list)"
   ]
  },
  {
   "cell_type": "code",
   "execution_count": 6,
   "metadata": {},
   "outputs": [],
   "source": [
    "def load_predictions(h_path):\n",
    "    pred_path = h_path.split('.')[0] + '_predictions.h5'\n",
    "    joints = {}\n",
    "    \n",
    "    if os.path.exists(pred_path):\n",
    "        hf = h5py.File(pred_path,'r')\n",
    "        joint_loc = hf['positions_pred'][()].astype(np.float32) #hf.get('positions_pred')\n",
    "        joint_conf = hf['conf_pred'][()] #hf.get('conf_pred')\n",
    "        hf.close\n",
    "    \n",
    "#         # LOAD JOINT TRACKING DATA\n",
    "#         # legs\n",
    "#         for joint_num in range(0,6):\n",
    "#             joints['tarsus%i_x'%joint_num]=joint_loc[:,0,27-4*joint_num]\n",
    "#             joints['tarsus%i_y'%joint_num]=joint_loc[:,1,27-4*joint_num]\n",
    "#             joints['tarsus%i_conf'%joint_num]=joint_conf[:,27-4*joint_num]\n",
    "#         # antennae\n",
    "#         for anten_num in range(0,2):\n",
    "#             joints['antenna%i_x'%anten_num]=joint_loc[:,0,28+4*anten_num]\n",
    "#             joints['antenna%i_y'%anten_num]=joint_loc[:,1,28+4*anten_num]\n",
    "#             joints['antenna%i_conf'%anten_num]=joint_conf[:,28+4*anten_num]\n",
    "#         # thorax & neck\n",
    "#         joints['thorax_x']=joint_loc[:,0,2]\n",
    "#         joints['thorax_y']=joint_loc[:,1,2]\n",
    "#         joints['thorax_conf']=joint_conf[:,2]\n",
    "#         joints['neck_x']=joint_loc[:,0,1]\n",
    "#         joints['neck_y']=joint_loc[:,1,1]\n",
    "#         joints['neck_conf']=joint_conf[:,1]\n",
    "        \n",
    "        # LOAD JOINT TRACKING DATA FOR ****10*** TRACKED POINTS\n",
    "        # legs\n",
    "        for joint_num in range(0,6):\n",
    "            joints['joint%i_x'%joint_num]=joint_loc[:,0,7-joint_num]\n",
    "            joints['joint%i_y'%joint_num]=joint_loc[:,1,7-joint_num]\n",
    "            joints['joint%i_conf'%joint_num]=joint_conf[:,7-joint_num]\n",
    "        # antennae\n",
    "        for anten_num in range(0,2):\n",
    "            joints['antenna%i_x'%anten_num]=joint_loc[:,0,8+anten_num]\n",
    "            joints['antenna%i_y'%anten_num]=joint_loc[:,1,8+anten_num]\n",
    "            joints['antenna%i_conf'%anten_num]=joint_conf[:,8+anten_num]\n",
    "        # thorax & neck\n",
    "        joints['thorax_x']=joint_loc[:,0,1]\n",
    "        joints['thorax_y']=joint_loc[:,1,1]\n",
    "        joints['thorax_conf']=joint_conf[:,1]\n",
    "        joints['neck_x']=joint_loc[:,0,0]\n",
    "        joints['neck_y']=joint_loc[:,1,0]\n",
    "        joints['neck_conf']=joint_conf[:,0]\n",
    "        \n",
    "    return joints\n",
    "\n",
    "def plot_predictions(joints, all_joints, fr_id):\n",
    "    \n",
    "    # for each key (joint name):\n",
    "    for joint_name in all_joints:\n",
    "        norm2 = colors.Normalize(vmin=0, vmax=1)\n",
    "        plt.scatter(joints['%s_x'%joint_name][fr_id], joints['%s_y'%joint_name][fr_id], c = joints['%s_conf'%joint_name][fr_id], s = 20, cmap = cm.bwr,\n",
    "                       edgecolor = 'none', norm=norm2)# '.g')\n",
    "        \n",
    "    return\n",
    "    \n"
   ]
  },
  {
   "cell_type": "code",
   "execution_count": null,
   "metadata": {},
   "outputs": [
    {
     "name": "stdout",
     "output_type": "stream",
     "text": [
      "*** PRESS \"w\" TO CLOSE A FIGURE AND MOVE TO THE NEXT ANT H5 ***\n",
      "/media/gravishlab/SeagateExpansionDrive/AntTrack/Tunnel_20180313-14/0mm/20180313_083810_16276736-0000\n",
      " --- ant0.h5\n"
     ]
    }
   ],
   "source": [
    "plt.close('all')\n",
    "\n",
    "\n",
    "def key_event(e):\n",
    "    global curr_pos\n",
    "    global close_fig\n",
    "\n",
    "    if e.key == \"right\":\n",
    "        curr_pos = curr_pos + 1\n",
    "    elif e.key == \"left\":\n",
    "        curr_pos = curr_pos - 1\n",
    "    elif e.key == \"w\":\n",
    "        close_fig = True\n",
    "        return\n",
    "    else:\n",
    "        return\n",
    "    curr_pos = curr_pos % len(frames)\n",
    "\n",
    "    frame_toshow = np.swapaxes(np.tile(frames[curr_pos].astype(np.uint8),(3,1,1)),0,2)\n",
    "    ax.cla()\n",
    "    plt.imshow(frame_toshow)\n",
    "    plot_predictions(joints, all_joints, curr_pos)\n",
    "    plt.axis('off')\n",
    "    plt.text(10,10, 'Fr: %i'%curr_pos, color = 'w')\n",
    "    plt.title('%s -- %s -- %s'%(folder_bits[-2], ('_').join(folder_bits[-1].split('_')[0:2]), h_path.split('/')[-1][:-3]), loc = 'left')\n",
    "    fig.canvas.draw()\n",
    "\n",
    "def close_out_of_program():\n",
    "    continueon = input('Press any key to exit:  ')\n",
    "    print('\\nClosing down viewer...')\n",
    "    return #close_up_shop\n",
    "    \n",
    "    \n",
    "i=threading.Thread(target=close_out_of_program, args = ())\n",
    "i.start()\n",
    "\n",
    "    \n",
    "print('*** PRESS \"w\" TO CLOSE A FIGURE AND MOVE TO THE NEXT ANT H5 ***')\n",
    "for kk, file in enumerate(file_list[13:]):\n",
    "    folder = file.split('.mp4')[0]\n",
    "    folder_bits = folder.split('/')\n",
    "    a_files = glob.glob(os.path.join(folder, 'ant*[0-9].h5'))\n",
    "    print(folder)\n",
    "\n",
    "    for ff, h_path in enumerate(sorted(a_files)):\n",
    "        close_fig = False\n",
    "        print(' --- %s'%h_path.split('/')[-1])\n",
    "        hf = h5py.File(h_path,'r')\n",
    "        frames= hf['box'] \n",
    "        hf.close\n",
    "        \n",
    "        # load joint predictions\n",
    "        joints = load_predictions(h_path)\n",
    "        # find all joint names\n",
    "        all_keys = joints.keys()\n",
    "        all_joints = [ key[:-2] for key in all_keys if '_x' in key]\n",
    "\n",
    "        curr_pos = 0\n",
    "\n",
    "        fig= plt.figure()\n",
    "        mngr = plt.get_current_fig_manager()\n",
    "        mngr.window.setGeometry(1550,300,1000,1045)\n",
    "        ax=fig.add_subplot(111)\n",
    "        plt.imshow(np.swapaxes(np.tile(frames[0].astype(np.uint8),(3,1,1)),0,2))\n",
    "        plot_predictions(joints, all_joints, curr_pos)\n",
    "        plt.text(10,10, 'Fr: %i'%curr_pos, color = 'w')\n",
    "        plt.title('%s -- %s -- %s'%(folder_bits[-2], ('_').join(folder_bits[-1].split('_')[0:2]), h_path.split('/')[-1][:-3]), loc = 'left')\n",
    "        plt.axis('off')\n",
    "        fig.canvas.mpl_connect('key_press_event', key_event)\n",
    "        plt.show(block=False)\n",
    "        \n",
    "        fig_open = plt.fignum_exists(fig.number)\n",
    "        while (not close_fig) and fig_open:\n",
    "            plt.pause(3)\n",
    "            if not i.isAlive():\n",
    "#                 print('User input has ended. Closing...')\n",
    "                break\n",
    "        plt.close(fig)\n",
    "\n",
    "        if not i.isAlive():\n",
    "#             print('User input has ended. Closing...')\n",
    "            break\n",
    "            \n",
    "    if not i.isAlive():\n",
    "#         print('User input has ended. Closing...')\n",
    "        break\n",
    "#     continueon = input('Hit \"N\" or \"n\" to exit:  ')\n",
    "# #     continueon = getpass.getpass('continue to next file [Y or N]?')\n",
    "#     cursor_up = '\\x1b[1A'\n",
    "#     erase_line = '\\x1b[2K'\n",
    "#     print(cursor_up + erase_line)\n",
    "# #     screen_code = \"\\033[1A[\\033[2K\"\n",
    "# #     sys.stdout.write( screen_code)\n",
    "# #     print(\"\\033[A                     \\033[A\")\n",
    "#     if (continueon == 'N') or (continueon == 'n'):\n",
    "#         break\n",
    "        \n",
    "print('All done!')\n",
    "        "
   ]
  },
  {
   "cell_type": "code",
   "execution_count": null,
   "metadata": {},
   "outputs": [],
   "source": [
    "def set_up_figure():\n",
    "    fig,ax = plt.subplots()\n",
    "    return fig, ax\n",
    "\n",
    "for n in range(0,2):\n",
    "    fig, ax = set_up_figure()\n",
    "    ax.plot(n*2,n*4,'.k')\n",
    "    plt.show(block=True)"
   ]
  },
  {
   "cell_type": "code",
   "execution_count": null,
   "metadata": {},
   "outputs": [],
   "source": []
  }
 ],
 "metadata": {
  "kernelspec": {
   "display_name": "Python 3",
   "language": "python",
   "name": "python3"
  },
  "language_info": {
   "codemirror_mode": {
    "name": "ipython",
    "version": 3
   },
   "file_extension": ".py",
   "mimetype": "text/x-python",
   "name": "python",
   "nbconvert_exporter": "python",
   "pygments_lexer": "ipython3",
   "version": "3.6.5"
  }
 },
 "nbformat": 4,
 "nbformat_minor": 2
}
