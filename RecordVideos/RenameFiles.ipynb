{
 "cells": [
  {
   "cell_type": "code",
   "execution_count": 1,
   "metadata": {},
   "outputs": [
    {
     "name": "stdout",
     "output_type": "stream",
     "text": [
      "7227\n"
     ]
    }
   ],
   "source": [
    "import glob\n",
    "import os\n",
    "\n",
    "vid_locations = '/media/gravishlab/Seagate Expansion Drive/AntTrack/'\n",
    "file_list = glob.glob(os.path.join(vid_locations, '**/**/*.mp4'))\n",
    "# file_list = glob.glob(os.path.join(vid_locations, '**/*.mp4'))\n",
    "file_list = sorted(file_list)\n",
    "print(len(file_list))"
   ]
  },
  {
   "cell_type": "code",
   "execution_count": 2,
   "metadata": {},
   "outputs": [
    {
     "name": "stdout",
     "output_type": "stream",
     "text": [
      "\n",
      "Renamed 0 files\n"
     ]
    }
   ],
   "source": [
    "cnt = 0\n",
    "for vname in file_list:\n",
    "#     print(vname)\n",
    "    if not '0000' in vname:\n",
    "        tmp = vname.split('/')\n",
    "        tmp2 = tmp[-1].split('.')[0]\n",
    "        fname = tmp2+'-0000.mp4'\n",
    "    #     print(tmp2+'-0000.mp4')\n",
    "        new_vname = '/'.join(tmp[:-1]) + '/' + fname\n",
    "        os.rename(vname, new_vname)\n",
    "        print(new_vname)\n",
    "        cnt = cnt +1\n",
    "        \n",
    "print('\\nRenamed %i files' % cnt)\n",
    "\n",
    "\n",
    "# os.rename(vname, new_vname)"
   ]
  },
  {
   "cell_type": "code",
   "execution_count": null,
   "metadata": {},
   "outputs": [],
   "source": []
  }
 ],
 "metadata": {
  "kernelspec": {
   "display_name": "Python 3",
   "language": "python",
   "name": "python3"
  },
  "language_info": {
   "codemirror_mode": {
    "name": "ipython",
    "version": 3
   },
   "file_extension": ".py",
   "mimetype": "text/x-python",
   "name": "python",
   "nbconvert_exporter": "python",
   "pygments_lexer": "ipython3",
   "version": "3.5.2"
  }
 },
 "nbformat": 4,
 "nbformat_minor": 2
}
