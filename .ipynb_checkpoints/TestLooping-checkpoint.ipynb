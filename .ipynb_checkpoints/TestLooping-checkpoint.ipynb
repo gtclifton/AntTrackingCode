{
 "cells": [
  {
   "cell_type": "code",
   "execution_count": 3,
   "metadata": {},
   "outputs": [
    {
     "name": "stdout",
     "output_type": "stream",
     "text": [
      "normal stuff\n",
      "normal stuff\n",
      "normal stuff\n",
      "Press a key \n",
      "l\n",
      "You pressed:  l\n",
      "flag is now: False\n",
      "The while loop is now closing\n"
     ]
    }
   ],
   "source": [
    "import time\n",
    "import threading\n",
    "# from multiprocessing import Process\n",
    "\n",
    "# global flag\n",
    "flag = 1\n",
    "\n",
    "def normal():\n",
    "    global flag\n",
    "    while flag==1:\n",
    "        print('normal stuff')\n",
    "        time.sleep(2)\n",
    "        if flag==False:\n",
    "            print('The while loop is now closing')\n",
    "\n",
    "    \n",
    "def get_input():\n",
    "    global flag\n",
    "    keystrk=input('Press a key to exit: ')\n",
    "    # thread doesn't continue until key is pressed\n",
    "    print('You pressed: ', keystrk)\n",
    "    flag=False\n",
    "    print('flag is now:', flag)\n",
    "    \n",
    "n=threading.Thread(target=normal)\n",
    "i=threading.Thread(target=get_input)\n",
    "n.start()\n",
    "i.start()\n",
    "    \n",
    "    \n",
    "\n",
    "\n",
    "        \n",
    "\n",
    "    \n",
    "    \n",
    "    \n",
    "    \n",
    "\n",
    "        "
   ]
  },
  {
   "cell_type": "code",
   "execution_count": 1,
   "metadata": {},
   "outputs": [],
   "source": [
    "    \n",
    "# p1 = Process(target=do_stuff)\n",
    "# p1.start()\n",
    "\n",
    "\n",
    "# running = 1\n",
    "# while running ==1:\n",
    "\n",
    "#     user=input(str('Enter <return> to exit: '))\n",
    "#     print('normal stuff')\n",
    "#     time.sleep(2)\n",
    "    \n",
    "#     if user == '':\n",
    "#         print('Exiting')\n",
    "#         running =0"
   ]
  },
  {
   "cell_type": "code",
   "execution_count": 1,
   "metadata": {},
   "outputs": [],
   "source": [
    "# print('program start')\n",
    "\n",
    "# start_time=time.time();\n",
    "\n",
    "# # print('Doing stuff')\n",
    "# # time.sleep(2)\n",
    "\n",
    "# runprog=1\n",
    "# # runprog = input(\"Type 'False' to exit:  \")\n",
    "# print('here?')\n",
    "\n",
    "# while(runprog):\n",
    "#     unprog = input(\"Type 'False' to exit:  \")\n",
    "#     elapsed_time=time.time()-start_time\n",
    "#     if(elapsed_time>3):\n",
    "#         print(elapsed_time)\n",
    "#         start_time=time.time()\n",
    "        \n",
    "# print('Exited out of for loop')"
   ]
  },
  {
   "cell_type": "code",
   "execution_count": null,
   "metadata": {},
   "outputs": [],
   "source": []
  }
 ],
 "metadata": {
  "kernelspec": {
   "display_name": "Python 3",
   "language": "python",
   "name": "python3"
  },
  "language_info": {
   "codemirror_mode": {
    "name": "ipython",
    "version": 3
   },
   "file_extension": ".py",
   "mimetype": "text/x-python",
   "name": "python",
   "nbconvert_exporter": "python",
   "pygments_lexer": "ipython3",
   "version": "3.5.2"
  }
 },
 "nbformat": 4,
 "nbformat_minor": 2
}
