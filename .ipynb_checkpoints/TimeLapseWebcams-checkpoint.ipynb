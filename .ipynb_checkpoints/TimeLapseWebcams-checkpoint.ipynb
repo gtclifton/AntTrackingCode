{
 "cells": [
  {
   "cell_type": "code",
   "execution_count": 1,
   "metadata": {},
   "outputs": [
    {
     "name": "stdout",
     "output_type": "stream",
     "text": [
      "Using matplotlib backend: Qt5Agg\n",
      "---OpenCV Version: 3.4.0\n"
     ]
    }
   ],
   "source": [
    "import numpy as np\n",
    "import cv2\n",
    "import time\n",
    "import os\n",
    "import glob\n",
    "import datetime\n",
    "%matplotlib qt5\n",
    "%matplotlib auto\n",
    "import matplotlib.pyplot as plt\n",
    "\n",
    "# print opencv version\n",
    "ver = cv2.__version__\n",
    "print('---OpenCV Version: ' + ver)"
   ]
  },
  {
   "cell_type": "code",
   "execution_count": 2,
   "metadata": {},
   "outputs": [],
   "source": [
    "%qtconsole"
   ]
  },
  {
   "cell_type": "code",
   "execution_count": 9,
   "metadata": {},
   "outputs": [
    {
     "name": "stdout",
     "output_type": "stream",
     "text": [
      "made new folder\n",
      "made new folder\n"
     ]
    }
   ],
   "source": [
    "save_images = True\n",
    "FrCutoff = 60/5*12\n",
    "interval = 5*60 #in seconds\n",
    "\n",
    "if save_images:\n",
    "    # make folders to save images\n",
    "    dfolder = '/media/gravishlab/SeagateExpansionDrive/AntTunnelPreference/' + time.strftime(\"%Y_%m_%d\")\n",
    "\n",
    "    for cidx in[1,2]:\n",
    "        cfolder = dfolder + '_Cam%i'%cidx\n",
    "        if not os.path.exists(cfolder):\n",
    "            os.makedirs(cfolder)\n",
    "            print('made new folder')\n",
    "\n"
   ]
  },
  {
   "cell_type": "code",
   "execution_count": 10,
   "metadata": {},
   "outputs": [
    {
     "name": "stdout",
     "output_type": "stream",
     "text": [
      "*** STARTED PROGRAM -- 2018_09_16 -- 12_51_25\n",
      "\n",
      "Photos Taken At: 12:51:27, 12:51:37, 12:51:47, 12:51:57, 12:52:07, "
     ]
    }
   ],
   "source": [
    "# Define webcam item\n",
    "cap = cv2.VideoCapture(0)\n",
    "cap.set(11,0.3) # brightness\n",
    "cap.set(12,.5) # contrast\n",
    "# cap.set(15, ) # gain\n",
    "# cap.set(16, .5) # exposure\n",
    "\n",
    "# Define webcam item\n",
    "cap2 = cv2.VideoCapture(1)\n",
    "cap2.set(11,0.3) # brightness\n",
    "cap2.set(12,.5) # contrast\n",
    "# # cap.set(15, ) # gain\n",
    "# # cap.set(16, .5) # exposure\n",
    "\n",
    "FrNum = -20 \n",
    "print('*** STARTED PROGRAM -- %s'%time.strftime(\"%Y_%m_%d -- %H_%M_%S\"))\n",
    "\n",
    "if not cap.isOpened():\n",
    "    print('captured video not open for some reason...')\n",
    "\n",
    "print('\\nPhotos Taken At: ', end = \"\", flush = True)\n",
    "while(cap.isOpened()):\n",
    "    \n",
    "    # Capture frame-by-frame\n",
    "    ret, frame = cap.read()\n",
    "    ret2, frame2 = cap2.read()\n",
    "    \n",
    "    if FrNum <0: # first frames are always blown out, want to capture second frame after starting\n",
    "        FrNum = FrNum + 1\n",
    "        continue\n",
    "\n",
    "    if FrNum >= FrCutoff:\n",
    "        print('\\ndesired number of frames recorded')\n",
    "        break\n",
    "    elif ret and ret2:\n",
    "        \n",
    "        # Display the resulting frame\n",
    "        cv2.imshow('cam 1',frame)\n",
    "        cv2.imshow('cam 2',frame2)\n",
    "        \n",
    "        if FrNum == 0:\n",
    "            start_time = time.time()\n",
    "        \n",
    "        if ((time.time() -start_time)%interval <1) and save_images:\n",
    "            print('%s, '%time.strftime(\"%H:%M:%S\"), end = \"\", flush =True)\n",
    "            cv2.imwrite(\"%s_Cam1/Cam1_%03i-%s.jpg\"%(dfolder,FrNum,time.strftime(\"%H_%M_%S\")), frame)  \n",
    "            cv2.imwrite(\"%s_Cam2/Cam2_%03i-%s.jpg\"%(dfolder,FrNum,time.strftime(\"%H_%M_%S\")), frame2) \n",
    "            FrNum = FrNum + 1\n",
    "#             time.sleep(1)\n",
    "            cv2.waitKey(1000)\n",
    "\n",
    "        # Press Q on keyboard to  exit\n",
    "        if cv2.waitKey(25) & 0xFF == ord('q'):\n",
    "            break\n",
    " \n",
    "    # Break the loop\n",
    "    else: \n",
    "        print('\\nproblem with cmaera', ret, ret2)\n",
    "        break\n",
    "\n",
    "\n",
    "\n",
    "cap.release()\n",
    "cap2.release()\n",
    "cv2.destroyAllWindows()"
   ]
  },
  {
   "cell_type": "code",
   "execution_count": null,
   "metadata": {},
   "outputs": [],
   "source": []
  },
  {
   "cell_type": "code",
   "execution_count": null,
   "metadata": {},
   "outputs": [],
   "source": []
  },
  {
   "cell_type": "code",
   "execution_count": 2,
   "metadata": {},
   "outputs": [
    {
     "name": "stdout",
     "output_type": "stream",
     "text": [
      "0 True\n",
      "1 True\n",
      "2 False\n",
      "3 False\n",
      "4 False\n",
      "5 False\n",
      "6 False\n",
      "7 False\n",
      "8 False\n",
      "9 False\n",
      "10 False\n"
     ]
    }
   ],
   "source": [
    "# TEST IF ALL CAMERAS ARE VISIBLE AND WHAT INDEX THEY'RE AT\n",
    "\n",
    "for cidx in range(0,11):\n",
    "    cap = cv2.VideoCapture(cidx)\n",
    "    print(cidx, cap.isOpened())\n",
    "    cap.release()"
   ]
  },
  {
   "cell_type": "code",
   "execution_count": 16,
   "metadata": {},
   "outputs": [
    {
     "name": "stdout",
     "output_type": "stream",
     "text": [
      "[0 5 1 3]\n",
      "[0 1 5 3]\n",
      "[0 3 1 5]\n",
      "[3 5 0 1]\n",
      "[5 0 1 3]\n",
      "[3 5 0 1]\n",
      "[1 0 3 5]\n",
      "[0 1 3 5]\n",
      "[1 5 3 0]\n",
      "[5 3 0 1]\n",
      "[3 0 5 1]\n",
      "[1 0 3 5]\n",
      "[5 1 0 3]\n",
      "[5 1 0 3]\n",
      "[5 1 0 3]\n",
      "[3 5 0 1]\n",
      "[1 3 0 5]\n",
      "[1 0 3 5]\n",
      "[1 0 5 3]\n",
      "[5 1 3 0]\n"
     ]
    }
   ],
   "source": [
    "for g in range(0,20):\n",
    "    idcs = np.arange(4)\n",
    "    np.random.shuffle(idcs)#np.random.randint(4,size = 4)\n",
    "    subs = np.array([0,1,3,5])\n",
    "    print(subs[idcs])"
   ]
  },
  {
   "cell_type": "code",
   "execution_count": null,
   "metadata": {},
   "outputs": [],
   "source": []
  }
 ],
 "metadata": {
  "kernelspec": {
   "display_name": "Python 3",
   "language": "python",
   "name": "python3"
  },
  "language_info": {
   "codemirror_mode": {
    "name": "ipython",
    "version": 3
   },
   "file_extension": ".py",
   "mimetype": "text/x-python",
   "name": "python",
   "nbconvert_exporter": "python",
   "pygments_lexer": "ipython3",
   "version": "3.6.5"
  }
 },
 "nbformat": 4,
 "nbformat_minor": 2
}
