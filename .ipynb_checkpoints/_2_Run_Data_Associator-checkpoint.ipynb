{
 "cells": [
  {
   "cell_type": "markdown",
   "metadata": {},
   "source": [
    "# Run through all the tracked contours and associate points \n",
    "  "
   ]
  },
  {
   "cell_type": "code",
   "execution_count": 11,
   "metadata": {},
   "outputs": [
    {
     "name": "stdout",
     "output_type": "stream",
     "text": [
      "Using matplotlib backend: TkAgg\n"
     ]
    }
   ],
   "source": [
    "import numpy as np\n",
    "import matplotlib.pyplot as plt\n",
    "import os\n",
    "import json\n",
    "import sys\n",
    "\n",
    "# %qtconsole\n",
    "# %matplotlib qt4\n",
    "%matplotlib auto\n",
    "\n",
    "import glob\n",
    "\n",
    "sys.path.append('/home/gravishlab/Documents/Python/')\n",
    "sys.path.append('/home/gravishlab/Documents/Python/Tracker/')\n",
    "sys.path.append('/home/gravishlab/Documents/Python/Tracker/Tracker/')\n",
    "from Tracker import Tracker\n",
    "\n",
    "import multiprocessing"
   ]
  },
  {
   "cell_type": "code",
   "execution_count": 12,
   "metadata": {},
   "outputs": [],
   "source": [
    "vid_locations = '/media/gravishlab/Seagate Expansion Drive/AntTrack/'\n"
   ]
  },
  {
   "cell_type": "markdown",
   "metadata": {},
   "source": [
    "## Build file list for testing"
   ]
  },
  {
   "cell_type": "code",
   "execution_count": 13,
   "metadata": {},
   "outputs": [
    {
     "name": "stdout",
     "output_type": "stream",
     "text": [
      "Total Number of Videos:  1727\n"
     ]
    }
   ],
   "source": [
    "file_list = []\n",
    "# for root, dirs, files in os.walk(vid_locations):\n",
    "#     for file in files:\n",
    "#         if(os.path.splitext(file)[1] == '.avi' and # only avi files\n",
    "#            os.path.basename(file)[0] != '5'):      # dont track video 5\n",
    "#             file_list.append(os.path.join(root, file))\n",
    "# len(file_list)\n",
    "\n",
    "\n",
    "# # glob is like dir in matlab, it searches for files\n",
    "# file_list = glob.glob(os.path.join(vid_locations, '**/*12-0000.avi'))\n",
    "# file_list = glob.glob(os.path.join(vid_locations, '0mm_clear/*12-0000.avi'))\n",
    "# file_list = glob.glob(os.path.join(vid_locations, '*12-0000.avi'))\n",
    "file_list = glob.glob(os.path.join(vid_locations, 'AntTunnel/2mm_clear/*18-0000.avi'))\n",
    "print('Total Number of Videos: ',len(file_list))\n",
    "\n",
    "# To test script---restrict to just first video file\n",
    "# file_list=file_list[0:2]\n",
    "# print(file_list[0:10])"
   ]
  },
  {
   "cell_type": "markdown",
   "metadata": {},
   "source": [
    "## Function to run association or skip if file not tracked"
   ]
  },
  {
   "cell_type": "code",
   "execution_count": 14,
   "metadata": {},
   "outputs": [],
   "source": [
    "def track_or_skip(filename):\n",
    "\n",
    "    try:\n",
    "        \n",
    "        video = Tracker.Tracker(filename, min_object_size=200)\n",
    "        \n",
    "#         print('Do files exist?', video.file_exists, ' - ', video.file_exists_assoc)\n",
    "\n",
    "        if (video.file_exists is True) and (video.file_exists_assoc is False):\n",
    "            video.associate_contours(max_covariance=10,\n",
    "                                 max_velocity=100,\n",
    "                                 n_covariances_to_reject=20, \n",
    "                                 max_tracked_objects=100,\n",
    "                                 kalman_state_cov=1,\n",
    "                                 kalman_init_cov=0.2,\n",
    "                                 kalman_measurement_cov=1)\n",
    "            video.save_association_JSON()\n",
    "            \n",
    "            print(filename)\n",
    "    except:\n",
    "        print('Not done --- ', filename)"
   ]
  },
  {
   "cell_type": "markdown",
   "metadata": {},
   "source": [
    "## Farm out association to multi-process"
   ]
  },
  {
   "cell_type": "code",
   "execution_count": 15,
   "metadata": {},
   "outputs": [
    {
     "name": "stdout",
     "output_type": "stream",
     "text": [
      "/media/gravishlab/Seagate Expansion Drive/AntTrack/AntTunnel/2mm_clear/20180227_115630_16276718-0000.avi\n",
      "/media/gravishlab/Seagate Expansion Drive/AntTrack/AntTunnel/2mm_clear/20180227_115720_16276718-0000.avi\n",
      "/media/gravishlab/Seagate Expansion Drive/AntTrack/AntTunnel/2mm_clear/20180227_115809_16276718-0000.avi\n",
      "/media/gravishlab/Seagate Expansion Drive/AntTrack/AntTunnel/2mm_clear/20180227_115856_16276718-0000.avi\n",
      "/media/gravishlab/Seagate Expansion Drive/AntTrack/AntTunnel/2mm_clear/20180227_115940_16276718-0000.avi\n",
      "/media/gravishlab/Seagate Expansion Drive/AntTrack/AntTunnel/2mm_clear/20180227_120024_16276718-0000.avi\n",
      "/media/gravishlab/Seagate Expansion Drive/AntTrack/AntTunnel/2mm_clear/20180227_120110_16276718-0000.avi\n",
      "/media/gravishlab/Seagate Expansion Drive/AntTrack/AntTunnel/2mm_clear/20180227_120154_16276718-0000.avi\n",
      "/media/gravishlab/Seagate Expansion Drive/AntTrack/AntTunnel/2mm_clear/20180227_120238_16276718-0000.avi\n",
      "/media/gravishlab/Seagate Expansion Drive/AntTrack/AntTunnel/2mm_clear/20180227_120330_16276718-0000.avi\n",
      "/media/gravishlab/Seagate Expansion Drive/AntTrack/AntTunnel/2mm_clear/20180227_120415_16276718-0000.avi\n",
      "/media/gravishlab/Seagate Expansion Drive/AntTrack/AntTunnel/2mm_clear/20180227_120500_16276718-0000.avi\n",
      "/media/gravishlab/Seagate Expansion Drive/AntTrack/AntTunnel/2mm_clear/20180227_120546_16276718-0000.avi\n",
      "/media/gravishlab/Seagate Expansion Drive/AntTrack/AntTunnel/2mm_clear/20180227_120644_16276718-0000.avi\n",
      "/media/gravishlab/Seagate Expansion Drive/AntTrack/AntTunnel/2mm_clear/20180227_120815_16276718-0000.avi\n",
      "/media/gravishlab/Seagate Expansion Drive/AntTrack/AntTunnel/2mm_clear/20180227_120900_16276718-0000.avi\n",
      "/media/gravishlab/Seagate Expansion Drive/AntTrack/AntTunnel/2mm_clear/20180227_120946_16276718-0000.avi\n",
      "/media/gravishlab/Seagate Expansion Drive/AntTrack/AntTunnel/2mm_clear/20180227_121035_16276718-0000.avi\n",
      "/media/gravishlab/Seagate Expansion Drive/AntTrack/AntTunnel/2mm_clear/20180227_121120_16276718-0000.avi\n",
      "/media/gravishlab/Seagate Expansion Drive/AntTrack/AntTunnel/2mm_clear/20180227_121616_16276718-0000.avi\n",
      "/media/gravishlab/Seagate Expansion Drive/AntTrack/AntTunnel/2mm_clear/20180227_121707_16276718-0000.avi\n",
      "/media/gravishlab/Seagate Expansion Drive/AntTrack/AntTunnel/2mm_clear/20180227_121752_16276718-0000.avi\n",
      "/media/gravishlab/Seagate Expansion Drive/AntTrack/AntTunnel/2mm_clear/20180227_121838_16276718-0000.avi\n",
      "/media/gravishlab/Seagate Expansion Drive/AntTrack/AntTunnel/2mm_clear/20180227_121931_16276718-0000.avi\n",
      "/media/gravishlab/Seagate Expansion Drive/AntTrack/AntTunnel/2mm_clear/20180227_122019_16276718-0000.avi\n",
      "/media/gravishlab/Seagate Expansion Drive/AntTrack/AntTunnel/2mm_clear/20180227_122108_16276718-0000.avi\n",
      "/media/gravishlab/Seagate Expansion Drive/AntTrack/AntTunnel/2mm_clear/20180227_122200_16276718-0000.avi\n",
      "/media/gravishlab/Seagate Expansion Drive/AntTrack/AntTunnel/2mm_clear/20180227_122247_16276718-0000.avi\n",
      "/media/gravishlab/Seagate Expansion Drive/AntTrack/AntTunnel/2mm_clear/20180227_122418_16276718-0000.avi\n",
      "/media/gravishlab/Seagate Expansion Drive/AntTrack/AntTunnel/2mm_clear/20180227_122509_16276718-0000.avi\n",
      "/media/gravishlab/Seagate Expansion Drive/AntTrack/AntTunnel/2mm_clear/20180227_122558_16276718-0000.avi\n",
      "/media/gravishlab/Seagate Expansion Drive/AntTrack/AntTunnel/2mm_clear/20180227_122645_16276718-0000.avi\n",
      "/media/gravishlab/Seagate Expansion Drive/AntTrack/AntTunnel/2mm_clear/20180227_122730_16276718-0000.avi\n",
      "/media/gravishlab/Seagate Expansion Drive/AntTrack/AntTunnel/2mm_clear/20180227_122823_16276718-0000.avi\n",
      "/media/gravishlab/Seagate Expansion Drive/AntTrack/AntTunnel/2mm_clear/20180227_122908_16276718-0000.avi\n",
      "/media/gravishlab/Seagate Expansion Drive/AntTrack/AntTunnel/2mm_clear/20180227_122953_16276718-0000.avi\n",
      "/media/gravishlab/Seagate Expansion Drive/AntTrack/AntTunnel/2mm_clear/20180227_123045_16276718-0000.avi\n",
      "/media/gravishlab/Seagate Expansion Drive/AntTrack/AntTunnel/2mm_clear/20180227_123135_16276718-0000.avi\n",
      "/media/gravishlab/Seagate Expansion Drive/AntTrack/AntTunnel/2mm_clear/20180227_123712_16276718-0000.avi\n",
      "/media/gravishlab/Seagate Expansion Drive/AntTrack/AntTunnel/2mm_clear/20180227_123757_16276718-0000.avi\n",
      "/media/gravishlab/Seagate Expansion Drive/AntTrack/AntTunnel/2mm_clear/20180227_123847_16276718-0000.avi\n",
      "/media/gravishlab/Seagate Expansion Drive/AntTrack/AntTunnel/2mm_clear/20180227_123937_16276718-0000.avi\n",
      "/media/gravishlab/Seagate Expansion Drive/AntTrack/AntTunnel/2mm_clear/20180227_124109_16276718-0000.avi\n",
      "/media/gravishlab/Seagate Expansion Drive/AntTrack/AntTunnel/2mm_clear/20180227_124204_16276718-0000.avi\n",
      "/media/gravishlab/Seagate Expansion Drive/AntTrack/AntTunnel/2mm_clear/20180227_124248_16276718-0000.avi\n",
      "/media/gravishlab/Seagate Expansion Drive/AntTrack/AntTunnel/2mm_clear/20180227_124331_16276718-0000.avi\n",
      "/media/gravishlab/Seagate Expansion Drive/AntTrack/AntTunnel/2mm_clear/20180227_124417_16276718-0000.avi\n",
      "/media/gravishlab/Seagate Expansion Drive/AntTrack/AntTunnel/2mm_clear/20180227_124501_16276718-0000.avi\n",
      "/media/gravishlab/Seagate Expansion Drive/AntTrack/AntTunnel/2mm_clear/20180227_124547_16276718-0000.avi\n",
      "/media/gravishlab/Seagate Expansion Drive/AntTrack/AntTunnel/2mm_clear/20180227_124642_16276718-0000.avi\n",
      "/media/gravishlab/Seagate Expansion Drive/AntTrack/AntTunnel/2mm_clear/20180227_124732_16276718-0000.avi\n",
      "/media/gravishlab/Seagate Expansion Drive/AntTrack/AntTunnel/2mm_clear/20180227_124820_16276718-0000.avi\n",
      "/media/gravishlab/Seagate Expansion Drive/AntTrack/AntTunnel/2mm_clear/20180227_124904_16276718-0000.avi\n",
      "/media/gravishlab/Seagate Expansion Drive/AntTrack/AntTunnel/2mm_clear/20180227_124948_16276718-0000.avi\n",
      "/media/gravishlab/Seagate Expansion Drive/AntTrack/AntTunnel/2mm_clear/20180227_125033_16276718-0000.avi\n",
      "/media/gravishlab/Seagate Expansion Drive/AntTrack/AntTunnel/2mm_clear/20180227_125121_16276718-0000.avi\n",
      "/media/gravishlab/Seagate Expansion Drive/AntTrack/AntTunnel/2mm_clear/20180227_125251_16276718-0000.avi\n",
      "/media/gravishlab/Seagate Expansion Drive/AntTrack/AntTunnel/2mm_clear/20180227_125755_16276718-0000.avi\n",
      "/media/gravishlab/Seagate Expansion Drive/AntTrack/AntTunnel/2mm_clear/20180227_125840_16276718-0000.avi\n",
      "/media/gravishlab/Seagate Expansion Drive/AntTrack/AntTunnel/2mm_clear/20180227_125926_16276718-0000.avi\n",
      "/media/gravishlab/Seagate Expansion Drive/AntTrack/AntTunnel/2mm_clear/20180227_130012_16276718-0000.avi\n",
      "/media/gravishlab/Seagate Expansion Drive/AntTrack/AntTunnel/2mm_clear/20180227_130106_16276718-0000.avi\n",
      "/media/gravishlab/Seagate Expansion Drive/AntTrack/AntTunnel/2mm_clear/20180227_130151_16276718-0000.avi\n",
      "/media/gravishlab/Seagate Expansion Drive/AntTrack/AntTunnel/2mm_clear/20180227_130241_16276718-0000.avi\n",
      "/media/gravishlab/Seagate Expansion Drive/AntTrack/AntTunnel/2mm_clear/20180227_130326_16276718-0000.avi\n",
      "/media/gravishlab/Seagate Expansion Drive/AntTrack/AntTunnel/2mm_clear/20180227_130413_16276718-0000.avi\n",
      "/media/gravishlab/Seagate Expansion Drive/AntTrack/AntTunnel/2mm_clear/20180227_130457_16276718-0000.avi\n",
      "/media/gravishlab/Seagate Expansion Drive/AntTrack/AntTunnel/2mm_clear/20180227_130547_16276718-0000.avi\n",
      "/media/gravishlab/Seagate Expansion Drive/AntTrack/AntTunnel/2mm_clear/20180227_130631_16276718-0000.avi\n",
      "/media/gravishlab/Seagate Expansion Drive/AntTrack/AntTunnel/2mm_clear/20180227_130720_16276718-0000.avi\n",
      "/media/gravishlab/Seagate Expansion Drive/AntTrack/AntTunnel/2mm_clear/20180227_130852_16276718-0000.avi\n",
      "/media/gravishlab/Seagate Expansion Drive/AntTrack/AntTunnel/2mm_clear/20180227_130939_16276718-0000.avi\n",
      "/media/gravishlab/Seagate Expansion Drive/AntTrack/AntTunnel/2mm_clear/20180227_131024_16276718-0000.avi\n",
      "/media/gravishlab/Seagate Expansion Drive/AntTrack/AntTunnel/2mm_clear/20180227_131109_16276718-0000.avi\n",
      "/media/gravishlab/Seagate Expansion Drive/AntTrack/AntTunnel/2mm_clear/20180227_131201_16276718-0000.avi\n",
      "/media/gravishlab/Seagate Expansion Drive/AntTrack/AntTunnel/2mm_clear/20180227_131245_16276718-0000.avi\n",
      "/media/gravishlab/Seagate Expansion Drive/AntTrack/AntTunnel/2mm_clear/20180227_131332_16276718-0000.avi\n",
      "/media/gravishlab/Seagate Expansion Drive/AntTrack/AntTunnel/2mm_clear/20180227_115539_16276718-0000.avi\n",
      "/media/gravishlab/Seagate Expansion Drive/AntTrack/AntTunnel/2mm_clear/20180227_120730_16276718-0000.avi\n"
     ]
    },
    {
     "name": "stdout",
     "output_type": "stream",
     "text": [
      "/media/gravishlab/Seagate Expansion Drive/AntTrack/AntTunnel/2mm_clear/20180227_122333_16276718-0000.avi\n",
      "/media/gravishlab/Seagate Expansion Drive/AntTrack/AntTunnel/2mm_clear/20180227_124025_16276718-0000.avi\n",
      "/media/gravishlab/Seagate Expansion Drive/AntTrack/AntTunnel/2mm_clear/20180227_125205_16276718-0000.avi\n",
      "/media/gravishlab/Seagate Expansion Drive/AntTrack/AntTunnel/2mm_clear/20180227_130806_16276718-0000.avi\n",
      "/media/gravishlab/Seagate Expansion Drive/AntTrack/AntTunnel/2mm_clear/20180227_132412_16276718-0000.avi\n",
      "/media/gravishlab/Seagate Expansion Drive/AntTrack/AntTunnel/2mm_clear/20180227_131850_16276718-0000.avi\n",
      "/media/gravishlab/Seagate Expansion Drive/AntTrack/AntTunnel/2mm_clear/20180227_131937_16276718-0000.avi\n",
      "/media/gravishlab/Seagate Expansion Drive/AntTrack/AntTunnel/2mm_clear/20180227_132022_16276718-0000.avi\n",
      "/media/gravishlab/Seagate Expansion Drive/AntTrack/AntTunnel/2mm_clear/20180227_132116_16276718-0000.avi\n",
      "/media/gravishlab/Seagate Expansion Drive/AntTrack/AntTunnel/2mm_clear/20180227_132200_16276718-0000.avi\n",
      "/media/gravishlab/Seagate Expansion Drive/AntTrack/AntTunnel/2mm_clear/20180227_132244_16276718-0000.avi\n",
      "/media/gravishlab/Seagate Expansion Drive/AntTrack/AntTunnel/2mm_clear/20180227_132328_16276718-0000.avi\n",
      "/media/gravishlab/Seagate Expansion Drive/AntTrack/AntTunnel/2mm_clear/20180227_132502_16276718-0000.avi\n",
      "/media/gravishlab/Seagate Expansion Drive/AntTrack/AntTunnel/2mm_clear/20180227_132546_16276718-0000.avi\n",
      "/media/gravishlab/Seagate Expansion Drive/AntTrack/AntTunnel/2mm_clear/20180227_132630_16276718-0000.avi\n",
      "/media/gravishlab/Seagate Expansion Drive/AntTrack/AntTunnel/2mm_clear/20180227_132720_16276718-0000.avi\n",
      "/media/gravishlab/Seagate Expansion Drive/AntTrack/AntTunnel/2mm_clear/20180227_132809_16276718-0000.avi\n",
      "/media/gravishlab/Seagate Expansion Drive/AntTrack/AntTunnel/2mm_clear/20180227_132901_16276718-0000.avi\n",
      "/media/gravishlab/Seagate Expansion Drive/AntTrack/AntTunnel/2mm_clear/20180227_132952_16276718-0000.avi\n",
      "/media/gravishlab/Seagate Expansion Drive/AntTrack/AntTunnel/2mm_clear/20180227_133037_16276718-0000.avi\n",
      "/media/gravishlab/Seagate Expansion Drive/AntTrack/AntTunnel/2mm_clear/20180227_133121_16276718-0000.avi\n",
      "/media/gravishlab/Seagate Expansion Drive/AntTrack/AntTunnel/2mm_clear/20180227_133205_16276718-0000.avi\n",
      "/media/gravishlab/Seagate Expansion Drive/AntTrack/AntTunnel/2mm_clear/20180227_133254_16276718-0000.avi\n",
      "/media/gravishlab/Seagate Expansion Drive/AntTrack/AntTunnel/2mm_clear/20180227_133339_16276718-0000.avi\n",
      "/media/gravishlab/Seagate Expansion Drive/AntTrack/AntTunnel/2mm_clear/20180227_133913_16276718-0000.avi\n",
      "/media/gravishlab/Seagate Expansion Drive/AntTrack/AntTunnel/2mm_clear/20180227_133958_16276718-0000.avi\n",
      "/media/gravishlab/Seagate Expansion Drive/AntTrack/AntTunnel/2mm_clear/20180227_134058_16276718-0000.avi\n",
      "/media/gravishlab/Seagate Expansion Drive/AntTrack/AntTunnel/2mm_clear/20180227_134143_16276718-0000.avi\n",
      "/media/gravishlab/Seagate Expansion Drive/AntTrack/AntTunnel/2mm_clear/20180227_134228_16276718-0000.avi\n",
      "all done\n"
     ]
    }
   ],
   "source": [
    "p = multiprocessing.Pool(1)\n",
    "\n",
    "p.map(track_or_skip, file_list) #file_list[0:200]\n",
    "\n",
    "print('all done')"
   ]
  },
  {
   "cell_type": "code",
   "execution_count": null,
   "metadata": {},
   "outputs": [],
   "source": []
  },
  {
   "cell_type": "code",
   "execution_count": null,
   "metadata": {},
   "outputs": [],
   "source": []
  },
  {
   "cell_type": "code",
   "execution_count": 19,
   "metadata": {},
   "outputs": [],
   "source": [
    "# # Testing why Tracker.Tracker wasn't working\n",
    "# vname=''.join(file_list[0:1])\n",
    "# print(vname)\n",
    "# video = Tracker.Tracker(vname,min_object_size=40)\n",
    "# # video = Tracker.Tracker(filename)\n",
    "# print(video.file_exists)"
   ]
  },
  {
   "cell_type": "code",
   "execution_count": 20,
   "metadata": {},
   "outputs": [],
   "source": [
    "# # Testing why Tracker.Tracker wasn't working using code from my TrackAllVideos file\n",
    "\n",
    "# for kk, vname in enumerate(sorted(file_list[0:2])): #[129:130]: # total 131\n",
    "#     print(kk, ' --- ', vname)\n",
    "#     # Load in images to memory during construction\n",
    "#     print(vname)\n",
    "#     video = Tracker.Tracker(vname,min_object_size=40) # ROI= (30, 30, 550, 1150) , verbose='False'\n",
    "#     print(video.file_exists)\n",
    "# #     # video.bkg_sep = 20\n",
    "# #     video.threshold_val = 0.7\n",
    "\n",
    "# #     video.load_video()\n",
    "# #     video.compute_background()          # form background image\n",
    "# #     video.remove_background()           # remove background\n",
    "# #     video.threshold()                   # threshold to segment features\n",
    "# #     video.morpho_closing()\n",
    "# #     video.find_objects()\n",
    "# #     video.draw_contours()\n",
    "# #     video.save_JSON()\n",
    "#     print('---Finished Tracking')"
   ]
  }
 ],
 "metadata": {
  "kernelspec": {
   "display_name": "Python 3",
   "language": "python",
   "name": "python3"
  },
  "language_info": {
   "codemirror_mode": {
    "name": "ipython",
    "version": 3
   },
   "file_extension": ".py",
   "mimetype": "text/x-python",
   "name": "python",
   "nbconvert_exporter": "python",
   "pygments_lexer": "ipython3",
   "version": "3.5.2"
  }
 },
 "nbformat": 4,
 "nbformat_minor": 1
}
