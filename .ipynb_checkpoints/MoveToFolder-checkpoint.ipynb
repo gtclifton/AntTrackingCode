{
 "cells": [
  {
   "cell_type": "code",
   "execution_count": 1,
   "metadata": {},
   "outputs": [],
   "source": [
    "import os\n",
    "import glob\n"
   ]
  },
  {
   "cell_type": "code",
   "execution_count": 2,
   "metadata": {},
   "outputs": [],
   "source": [
    "dfolder = '/media/gravishlab/Seagate Expansion Drive/AntTrack/0mm_clear'\n",
    "\n",
    "if not os.path.exists(dfolder):\n",
    "    os.makedirs(dfolder)\n",
    "    \n",
    "    \n",
    "vid_locations = '/media/gravishlab/Seagate Expansion Drive/AntTrack/'\n",
    "\n",
    "# glob is like dir in matlab, it searches for files\n",
    "file_list = glob.glob(os.path.join(vid_locations, '*tracks.txt'))\n",
    "file_list=sorted(file_list)"
   ]
  },
  {
   "cell_type": "code",
   "execution_count": 24,
   "metadata": {},
   "outputs": [
    {
     "name": "stdout",
     "output_type": "stream",
     "text": [
      "/media/gravishlab/Seagate Expansion Drive/AntTrack/20180213_121439_162767\n"
     ]
    }
   ],
   "source": [
    "for vname in file_list:\n",
    "#     print(vname[0:len(vname)-20])\n",
    "    \n",
    "    # move tracks file\n",
    "    if os.path.exists(vname):\n",
    "        os.rename(vname, \n",
    "                  dfolder + vname[len(vname)-41:len(vname)])\n",
    "    # move contours file\n",
    "    if os.path.exists(vname[0:len(vname)-18] + '12-0000_contours.txt'):\n",
    "        os.rename(vname[0:len(vname)-18] + '12-0000_contours.txt', \n",
    "                  dfolder + vname[len(vname)-41:len(vname)-18] + '12-0000_contours.txt')\n",
    "    # move video files\n",
    "    if os.path.exists(vname[0:len(vname)-18] + '12-0000.avi'):\n",
    "        os.rename(vname[0:len(vname)-18] + '12-0000.avi', \n",
    "                  dfolder + vname[len(vname)-41:len(vname)-18] + '12-0000.avi')\n",
    "    if os.path.exists(vname[0:len(vname)-18] + '18-0000.avi'):\n",
    "        os.rename(vname[0:len(vname)-18] + '18-0000.avi', \n",
    "                  dfolder + vname[len(vname)-41:len(vname)-18] + '18-0000.avi')\n",
    "    if os.path.exists(vname[0:len(vname)-18] + '35-0000.avi'):\n",
    "        os.rename(vname[0:len(vname)-18] + '35-0000.avi', \n",
    "                  dfolder + vname[len(vname)-41:len(vname)-18] + '35-0000.avi')\n",
    "    if os.path.exists(vname[0:len(vname)-18] + '36-0000.avi'):\n",
    "        os.rename(vname[0:len(vname)-18] + '36-0000.avi', \n",
    "                  dfolder + vname[len(vname)-41:len(vname)-18] + '36-0000.avi')\n",
    "        \n",
    "#     print('---Videos moved')"
   ]
  },
  {
   "cell_type": "code",
   "execution_count": 3,
   "metadata": {},
   "outputs": [],
   "source": [
    "# %qtconsole"
   ]
  },
  {
   "cell_type": "code",
   "execution_count": null,
   "metadata": {},
   "outputs": [],
   "source": []
  }
 ],
 "metadata": {
  "kernelspec": {
   "display_name": "Python 3",
   "language": "python",
   "name": "python3"
  },
  "language_info": {
   "codemirror_mode": {
    "name": "ipython",
    "version": 3
   },
   "file_extension": ".py",
   "mimetype": "text/x-python",
   "name": "python",
   "nbconvert_exporter": "python",
   "pygments_lexer": "ipython3",
   "version": "3.5.2"
  }
 },
 "nbformat": 4,
 "nbformat_minor": 2
}
