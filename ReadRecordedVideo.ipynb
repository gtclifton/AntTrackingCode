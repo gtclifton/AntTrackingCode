{
 "cells": [
  {
   "cell_type": "code",
   "execution_count": 4,
   "metadata": {},
   "outputs": [
    {
     "name": "stdout",
     "output_type": "stream",
     "text": [
      "OpenCV Version: 3.3.1\n"
     ]
    }
   ],
   "source": [
    "import numpy as np\n",
    "import cv2\n",
    "import time\n",
    "import os\n",
    "\n",
    "# print opencv version\n",
    "ver = cv2.__version__\n",
    "print('OpenCV Version: ' + ver)\n"
   ]
  },
  {
   "cell_type": "code",
   "execution_count": 6,
   "metadata": {},
   "outputs": [
    {
     "name": "stdout",
     "output_type": "stream",
     "text": [
      "True\n"
     ]
    }
   ],
   "source": [
    "\n",
    "# Define webcam item\n",
    "# cap = cv2.VideoCapture(0)\n",
    "\n",
    "# Test with pre-recorded video\n",
    "cap = cv2.VideoCapture(\"/home/gravishlab/Documents/Python/Test.avi\")\n",
    "\n",
    "# print('Initial brightness: %.2f' % (cap.get(11)))\n",
    "# print('Initial contrast: %.2f' % (cap.get(12)))\n",
    "# print('Initial gain: %.2f' % (cap.get(15)))\n",
    "# cap.set(cv2.CAP_PROP_AUTOFOCUS, 100) # turn the autofocus off\n",
    "# focus = 100  # min: 0, max: 255, increment:5\n",
    "# cap.set(28, focus) \n",
    "# cap.set(4,960)\n",
    "# cap.set(5,600)\n",
    "# cap.set(11,0.5) # brightness\n",
    "# cap.set(12,300) # contrast\n",
    "# cap.ste(15, ) # gain\n",
    "# FrNum = 0 \n",
    "\n",
    "\n",
    "\n",
    "# # Set-up background subtraction\n",
    "# fgbg = cv2.createBackgroundSubtractorMOG2(history = 50,)\n",
    "# # help(cv2.createBackgroundSubtractorMOG2)\n",
    "\n",
    "# # Set-up blob detection\n",
    "# params = cv2.SimpleBlobDetector_Params()\n",
    "# params.minThreshold = 0;\n",
    "# params.maxThreshold = 256;\n",
    "# params.filterByArea = True\n",
    "# params.filterByCircularity = False\n",
    "# params.minArea = 30\n",
    "# params.maxArea = 2000\n",
    "# detector = cv2.SimpleBlobDetector_create(params)\n",
    "# # help(cv2.SimpleBlobDetector)\n",
    "print(cap.isOpened())\n",
    "\n",
    "while(cap.isOpened()):\n",
    "    \n",
    "    # Capture frame-by-frame\n",
    "    ret, frame = cap.read()\n",
    "    #print(ret)\n",
    "    if not ret:\n",
    "        break\n",
    "        print('ret is false')\n",
    "#     FrNum = FrNum + 1\n",
    "        \n",
    "    cv2.imshow('raw',frame)\n",
    "    # how close program\n",
    "    if cv2.waitKey(1) & 0xFF == ord('q'):\n",
    "        break\n",
    "        \n",
    "\n",
    "    \n",
    "    \n",
    "    \n",
    "        \n",
    "# When everything done, release the capture\n",
    "cap.release()\n",
    "cv2.destroyAllWindows()\n",
    "    "
   ]
  },
  {
   "cell_type": "code",
   "execution_count": null,
   "metadata": {},
   "outputs": [],
   "source": []
  },
  {
   "cell_type": "code",
   "execution_count": null,
   "metadata": {},
   "outputs": [],
   "source": []
  }
 ],
 "metadata": {
  "kernelspec": {
   "display_name": "Python 3",
   "language": "python",
   "name": "python3"
  },
  "language_info": {
   "codemirror_mode": {
    "name": "ipython",
    "version": 3
   },
   "file_extension": ".py",
   "mimetype": "text/x-python",
   "name": "python",
   "nbconvert_exporter": "python",
   "pygments_lexer": "ipython3",
   "version": "3.5.2"
  }
 },
 "nbformat": 4,
 "nbformat_minor": 2
}
