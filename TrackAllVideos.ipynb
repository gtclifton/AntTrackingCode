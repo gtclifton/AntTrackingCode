{
 "cells": [
  {
   "cell_type": "code",
   "execution_count": 1,
   "metadata": {},
   "outputs": [
    {
     "name": "stdout",
     "output_type": "stream",
     "text": [
      "Using matplotlib backend: TkAgg\n"
     ]
    },
    {
     "name": "stderr",
     "output_type": "stream",
     "text": [
      "/home/gravishlab/.virtualenvs/ants/lib/python3.6/site-packages/h5py/__init__.py:36: FutureWarning: Conversion of the second argument of issubdtype from `float` to `np.floating` is deprecated. In future, it will be treated as `np.float64 == np.dtype(float).type`.\n",
      "  from ._conv import register_converters as _register_converters\n"
     ]
    }
   ],
   "source": [
    "import numpy as np\n",
    "# import cv2\n",
    "import time\n",
    "import os\n",
    "import os.path\n",
    "import glob\n",
    "import threading\n",
    "import sys\n",
    "import smtplib\n",
    "%matplotlib auto\n",
    "\n",
    "sys.path.append('/home/gravishlab/Documents/Python/')\n",
    "sys.path.append('/home/gravishlab/Documents/Python/Tracker/')\n",
    "sys.path.append('/home/gravishlab/Documents/Python/Tracker/Tracker/')\n",
    "from Tracker import Tracker\n",
    "from Tracker.Tracker import Tracker"
   ]
  },
  {
   "cell_type": "code",
   "execution_count": null,
   "metadata": {},
   "outputs": [],
   "source": []
  },
  {
   "cell_type": "code",
   "execution_count": 2,
   "metadata": {},
   "outputs": [],
   "source": [
    "# RE-ANALYZE VIDEOS \n",
    "\n",
    "# define thread of getting user input to close down\n",
    "def get_input():\n",
    "    global flag\n",
    "    print('')\n",
    "    keystrk=input('\\n\\nPress a key to exit: ')\n",
    "    # thread doesn't continue until key is pressed\n",
    "    flag=False\n",
    "    print('\\nYou pressed: ', keystrk, ' -- PROGRAM EXITING\\n')\n",
    "    print('')\n",
    "\n",
    "    return flag;\n",
    "\n",
    "def trackvid(filename, min_osize, thresh_val):\n",
    "    # contours tracking etc.\n",
    "    video = Tracker(filename, min_object_size= min_osize)\n",
    "    try:\n",
    "        if video.file_exists == False:\n",
    "\n",
    "            video.threshold_val = thresh_val\n",
    "            video.load_video()\n",
    "            video.compute_background()          # form background image\n",
    "            video.remove_background()           # remove background\n",
    "            video.threshold()                   # threshold to segment features\n",
    "            video.find_distance()               # remove dist before closing on clear bridge\n",
    "            video.morpho_closing()\n",
    "            video.find_objects()\n",
    "            video.draw_contours()\n",
    "            video.save_JSON()\n",
    "            video.associate_contours(max_covariance=10,\n",
    "                             max_velocity=100,\n",
    "                             n_covariances_to_reject=20, \n",
    "                             max_tracked_objects=100,\n",
    "                             kalman_state_cov=1,\n",
    "                             kalman_init_cov=0.2,\n",
    "                             kalman_measurement_cov=1)\n",
    "            video.save_association_JSON()\n",
    "\n",
    "#             print('--- Contours and tracks saved')\n",
    "            print(filename, ' --- tracked ') #, filename)\n",
    "        else:\n",
    "            print('--- Tracked files already exist')\n",
    "            \n",
    "    except:\n",
    "        print(filename, ' --- error! ') #, filename)\n",
    "        \n",
    "\n",
    "# i created a gmail account just for this purpose\n",
    "username = 'codefromglenna'\n",
    "password = 'imacomputer'\n",
    "fromaddr = 'codefromglenna@gmail.com'\n",
    "toaddr   = '6106392662@vtext.com'\n",
    "\n",
    "def sendtxt(msg):\n",
    "    server = smtplib.SMTP('smtp.gmail.com:587');\n",
    "#     server.connect();\n",
    "    server.starttls();\n",
    "    server.login(username,password);\n",
    "    server.sendmail(fromaddr, toaddr, msg) # -- ' + time.ctime() )\n",
    "    server.quit()\n",
    "    \n",
    "\n",
    "        \n",
    "        \n"
   ]
  },
  {
   "cell_type": "code",
   "execution_count": 5,
   "metadata": {},
   "outputs": [
    {
     "name": "stdout",
     "output_type": "stream",
     "text": [
      "Analyzing 3 videos! -- 02:39:13 PM\n",
      "\n",
      "\n",
      "/media/gravishlab/SeagateExpansionDrive/AntTrack/Tunnel_20180313-14/0mm/20180313_080112_16276736-0000.mp4  --- tracked \n",
      "/media/gravishlab/SeagateExpansionDrive/AntTrack/Tunnel_20180313-14/0mm/20180313_080315_16276736-0000.mp4  --- tracked \n",
      "/media/gravishlab/SeagateExpansionDrive/AntTrack/Tunnel_20180313-14/0mm/20180313_080418_16276736-0000.mp4  --- tracked \n",
      "\n",
      "Finished analyzing 3 videos! -- 02:40:06 PM\n",
      "\n",
      "all done!\n"
     ]
    }
   ],
   "source": [
    "# vids = glob.glob('/media/gravishlab/Seagate Expansion Drive/AntTrack/Tunnel_20180502-03/*/*162767*.mp4')\n",
    "vids = glob.glob('/media/gravishlab/SeagateExpansionDrive/AntTrack/*/*/*162767*.mp4')\n",
    "vids = sorted(vids)[0:3]\n",
    "nvids = len(vids)\n",
    "n_vidsanalyzed = 0\n",
    "        \n",
    "# set up user input to close down program at any time\n",
    "i=threading.Thread(target=get_input, args = ())#         else:\n",
    "#             print(' --- files already exist')\n",
    "i.start()\n",
    "\n",
    "if nvids > 0:\n",
    "\n",
    "    sep = 200 # separation from beginning and end of video --> frames that will analyze\n",
    "    buffer = 70 # how many pixels near walls to ignore (don't count ants walking on walls)\n",
    "\n",
    "    for vname in vids:\n",
    "        \n",
    "        if not i.isAlive():\n",
    "            print('User input has ended. Closing...')\n",
    "            time.sleep(20)\n",
    "            break\n",
    "            \n",
    "        if n_vidsanalyzed == 0:\n",
    "            print('Analyzing ' + str(nvids) + ' videos! -- ' + time.strftime('%I:%M:%S %p') + '\\n')\n",
    "            msg = 'Analyzing ' + str(nvids) + ' videos!' # ' -- ' + time.strftime('%I:%M %p')\n",
    "            sendtxt(msg)\n",
    "\n",
    "            \n",
    "#         print(vname)\n",
    "        \n",
    "        # Delete contours and association files\n",
    "        vname_base = vname.split('.')[:-1][0]\n",
    "        cname = vname_base + '_contours.txt'\n",
    "        tname = vname_base + '_tracks.txt'\n",
    "        if os.path.exists(cname):\n",
    "            os.system('gvfs-trash \\'' + cname + '\\'')\n",
    "        if os.path.exists(tname):\n",
    "            os.system('gvfs-trash \\'' + tname + '\\'')\n",
    "\n",
    "        trackvid(vname, 500, 0.2) # filename, min object size, threshold value\n",
    "        n_vidsanalyzed = n_vidsanalyzed + 1\n",
    "\n",
    "        if n_vidsanalyzed > 0:\n",
    "            if n_vidsanalyzed % 50 == 0:\n",
    "                msg = 'Finished analyzing ' + str(n_vidsanalyzed) + ' videos!'\n",
    "                sendtxt(msg)\n",
    "                print('\\nAnalyzed ' + str(n_vidsanalyzed) + ' videos -- ' + time.strftime('%I:%M:%S %p') + '\\n')\n",
    "\n",
    "        if n_vidsanalyzed == nvids:\n",
    "            msg = 'Finished analyzing ' + str(n_vidsanalyzed) + ' videos!' # ' -- ' + time.strftime('%I:%M %p')\n",
    "            sendtxt(msg)\n",
    "            print('\\nFinished analyzing ' + str(n_vidsanalyzed) + ' videos! -- ' + time.strftime('%I:%M:%S %p') + '\\n')\n",
    "        \n",
    "            \n",
    "        \n",
    "print('all done!')"
   ]
  },
  {
   "cell_type": "code",
   "execution_count": 13,
   "metadata": {},
   "outputs": [],
   "source": [
    "%qtconsole"
   ]
  },
  {
   "cell_type": "code",
   "execution_count": null,
   "metadata": {},
   "outputs": [],
   "source": []
  },
  {
   "cell_type": "code",
   "execution_count": null,
   "metadata": {},
   "outputs": [],
   "source": []
  },
  {
   "cell_type": "code",
   "execution_count": 22,
   "metadata": {},
   "outputs": [
    {
     "name": "stdout",
     "output_type": "stream",
     "text": [
      "Total Number of Videos:  343\n"
     ]
    }
   ],
   "source": [
    "# find list of all videos\n",
    "vids = glob.glob('/media/gravishlab/Seagate Expansion Drive/AntTrack/**/*12-0000.avi')\n",
    "print('Total Number of Videos: ',len(vids))"
   ]
  },
  {
   "cell_type": "code",
   "execution_count": 23,
   "metadata": {},
   "outputs": [
    {
     "name": "stdout",
     "output_type": "stream",
     "text": [
      "0  ---  /media/gravishlab/Seagate Expansion Drive/AntTrack/Rugosity_1_41/20171117_163816_16276712-0000.avi\n",
      "/media/gravishlab/Seagate Expansion Drive/AntTrack/Rugosity_1_41/20171117_163816_16276712-0000.avi\n",
      "True\n",
      "---Finished Tracking\n",
      "1  ---  /media/gravishlab/Seagate Expansion Drive/AntTrack/Rugosity_1_41/20171117_175031_16276712-0000.avi\n",
      "/media/gravishlab/Seagate Expansion Drive/AntTrack/Rugosity_1_41/20171117_175031_16276712-0000.avi\n",
      "True\n",
      "---Finished Tracking\n"
     ]
    }
   ],
   "source": [
    "for kk, vname in enumerate(sorted(vids[0:2])): #[129:130]: # total 131\n",
    "    print(kk, ' --- ', vname)\n",
    "    # Load in images to memory during construction\n",
    "    print(vname)\n",
    "    video = Tracker.Tracker(vname,min_object_size=40) # ROI= (30, 30, 550, 1150) , verbose='False'\n",
    "    print(video.file_exists)\n",
    "#     # video.bkg_sep = 20\n",
    "#     video.threshold_val = 0.7\n",
    "\n",
    "#     video.load_video()\n",
    "#     video.compute_background()          # form background image\n",
    "#     video.remove_background()           # remove background\n",
    "#     video.threshold()                   # threshold to segment features\n",
    "#     video.morpho_closing()\n",
    "#     video.find_objects()\n",
    "#     video.draw_contours()\n",
    "#     video.save_JSON()\n",
    "    print('---Finished Tracking')"
   ]
  },
  {
   "cell_type": "code",
   "execution_count": 14,
   "metadata": {},
   "outputs": [
    {
     "name": "stdout",
     "output_type": "stream",
     "text": [
      "/media/gravishlab/Seagate Expansion Drive/AntTrack/\n",
      "/media/gravishlab/Seagate Expansion Drive/AntTrack/Extrinsic\n",
      "/media/gravishlab/Seagate Expansion Drive/AntTrack/Extrinsic/2017_11_17\n",
      "/media/gravishlab/Seagate Expansion Drive/AntTrack/Extrinsic/2017_12_05\n",
      "/media/gravishlab/Seagate Expansion Drive/AntTrack/Rugosity_1_41\n",
      "/media/gravishlab/Seagate Expansion Drive/AntTrack/SetupPics\n",
      "/media/gravishlab/Seagate Expansion Drive/AntTrack/Smooth\n"
     ]
    }
   ],
   "source": [
    "for root, dirs, files in os.walk('/media/gravishlab/Seagate Expansion Drive/AntTrack/'):\n",
    "    print(root)"
   ]
  },
  {
   "cell_type": "code",
   "execution_count": null,
   "metadata": {},
   "outputs": [],
   "source": []
  }
 ],
 "metadata": {
  "kernelspec": {
   "display_name": "Python 3",
   "language": "python",
   "name": "python3"
  },
  "language_info": {
   "codemirror_mode": {
    "name": "ipython",
    "version": 3
   },
   "file_extension": ".py",
   "mimetype": "text/x-python",
   "name": "python",
   "nbconvert_exporter": "python",
   "pygments_lexer": "ipython3",
   "version": "3.6.5"
  }
 },
 "nbformat": 4,
 "nbformat_minor": 2
}
