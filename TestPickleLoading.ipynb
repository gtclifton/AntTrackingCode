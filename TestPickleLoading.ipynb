{
 "cells": [
  {
   "cell_type": "code",
   "execution_count": 1,
   "metadata": {},
   "outputs": [],
   "source": [
    "import os\n",
    "import sys\n",
    "import glob\n",
    "import time\n",
    "import datetime\n",
    "\n",
    "sys.path.append('/home/gravishlab/Documents/Python/')\n",
    "sys.path.append('/home/gravishlab/Documents/Python/AntTrackCode')\n",
    "sys.path.append('/home/gravishlab/Documents/Python/Tracker/')\n",
    "sys.path.append('/home/gravishlab/Documents/Python/Tracker/Tracker/')\n",
    "\n",
    "\n",
    "import pandas as pd\n",
    "\n"
   ]
  },
  {
   "cell_type": "code",
   "execution_count": 2,
   "metadata": {},
   "outputs": [
    {
     "name": "stdout",
     "output_type": "stream",
     "text": [
      "Total Number of Videos:  8266\n"
     ]
    },
    {
     "data": {
      "text/plain": [
       "500"
      ]
     },
     "execution_count": 2,
     "metadata": {},
     "output_type": "execute_result"
    }
   ],
   "source": [
    "vid_locations = '/media/gravishlab/SeagateExpansionDrive/AntTrack/'\n",
    "\n",
    "file_list = []\n",
    "\n",
    "# searches for files\n",
    "# file_list = glob.glob(os.path.join(vid_locations, '**/*12-0000.avi'))\n",
    "# file_list = glob.glob(os.path.join(vid_locations, '*clear/*12-0000.avi'))\n",
    "# file_list = glob.glob(os.path.join(vid_locations, '2mm_clear/*12-0000.avi'))\n",
    "file_list = glob.glob(os.path.join(vid_locations, '**/**/*0000.mp4'))\n",
    "# file_list = glob.glob(os.path.join(vid_locations, 'Tunnel_20180329-30/**/*0000.mp4'))\n",
    "file_list = sorted(file_list)\n",
    "print('Total Number of Videos: ',len(file_list))\n",
    "                \n",
    "file_list = file_list[0:500]\n",
    "len(file_list)"
   ]
  },
  {
   "cell_type": "code",
   "execution_count": 3,
   "metadata": {},
   "outputs": [
    {
     "name": "stdout",
     "output_type": "stream",
     "text": [
      "loading in all trackways pickle\n",
      "read in all trackways pickle -- duration:  1.102212905883789\n"
     ]
    }
   ],
   "source": [
    "# load in master dataframe\n",
    "print('loading in all trackways pickle')\n",
    "start_time = time.time()\n",
    "df = pd.read_pickle(vid_locations + 'AllTracks')\n",
    "# df = pd.read_pickle(vid_locations + 'TMP_DATA')\n",
    "print('read in all trackways pickle -- duration: ', time.time()-start_time)\n",
    "\n",
    "# # make list of trials\n",
    "# # %run LoadInTrackedData.ipynb # loads all functions\n",
    "# from ipynb.fs.defs.LoadInTrackedData import create_trial_info # loads only one function\n",
    "# trial_info = create_trial_info(file_list)\n"
   ]
  },
  {
   "cell_type": "code",
   "execution_count": 4,
   "metadata": {},
   "outputs": [
    {
     "name": "stdout",
     "output_type": "stream",
     "text": [
      "                            df:  32.2MiB\n",
      "                    trial_info:   4.2KiB\n",
      "                     file_list:   4.0KiB\n",
      "                           _ii:   679.0B\n",
      "                           _i2:   679.0B\n",
      "                           _i4:   567.0B\n",
      "                            _i:   522.0B\n",
      "                           _i3:   522.0B\n",
      "                          _iii:   384.0B\n",
      "                           _i1:   384.0B\n"
     ]
    }
   ],
   "source": [
    "def sizeof_fmt(num, suffix='B'):\n",
    "    ''' By Fred Cirera, after https://stackoverflow.com/a/1094933/1870254'''\n",
    "    for unit in ['','Ki','Mi','Gi','Ti','Pi','Ei','Zi']:\n",
    "        if abs(num) < 1024.0:\n",
    "            return \"%3.1f%s%s\" % (num, unit, suffix)\n",
    "        num /= 1024.0\n",
    "    return \"%.1f%s%s\" % (num, 'Yi', suffix)\n",
    "\n",
    "for name, size in sorted(((name, sys.getsizeof(value)) for name,value in locals().items()),\n",
    "                         key= lambda x: -x[1])[:10]:\n",
    "    print(\"{:>30}: {:>8}\".format(name,sizeof_fmt(size)))"
   ]
  },
  {
   "cell_type": "code",
   "execution_count": null,
   "metadata": {},
   "outputs": [],
   "source": [
    "# save as other things?\n",
    "df['x'][0]"
   ]
  },
  {
   "cell_type": "code",
   "execution_count": 11,
   "metadata": {},
   "outputs": [
    {
     "name": "stderr",
     "output_type": "stream",
     "text": [
      "/home/gravishlab/.virtualenvs/ants/lib/python3.6/site-packages/pandas/core/generic.py:1993: PerformanceWarning: \n",
      "your performance may suffer as PyTables will pickle object types that it cannot\n",
      "map directly to c-types [inferred_type->mixed,key->block3_values] [items->['LA', 'RA', 'angle', 'angle_improved', 'antenna0_conf', 'antenna0_x', 'antenna0_y', 'antenna1_conf', 'antenna1_x', 'antenna1_y', 'area', 'colony', 'date', 'dist_90fr', 'error', 'frames', 'frames_final', 'joint0_conf', 'joint0_x', 'joint0_y', 'joint1_conf', 'joint1_x', 'joint1_y', 'joint2_conf', 'joint2_x', 'joint2_y', 'joint3_conf', 'joint3_x', 'joint3_y', 'joint4_conf', 'joint4_x', 'joint4_y', 'joint5_conf', 'joint5_x', 'joint5_y', 'measurements', 'movave_fr', 'movave_v', 'neck_conf', 'neck_x', 'neck_y', 'substrate', 'thorax_conf', 'thorax_x', 'thorax_y', 'time', 'v', 'v_final', 'v_movave', 'vfilt', 'video', 'vx', 'vx_final', 'vxfilt', 'vy', 'vy_final', 'vyfilt', 'x', 'x_final', 'x_raw', 'xfilt', 'xy_cov_matrix', 'y', 'y_final', 'y_raw', 'yfilt']]\n",
      "\n",
      "  return pytables.to_hdf(path_or_buf, key, self, **kwargs)\n"
     ]
    }
   ],
   "source": [
    "df.to_hdf(vid_locations+'AntTrack2', key = 'df', mode = 'w')"
   ]
  },
  {
   "cell_type": "code",
   "execution_count": 4,
   "metadata": {},
   "outputs": [],
   "source": [
    "df=pd.read_hdf(vid_locations+'AntTrack2', 'df')"
   ]
  },
  {
   "cell_type": "code",
   "execution_count": null,
   "metadata": {},
   "outputs": [],
   "source": []
  }
 ],
 "metadata": {
  "kernelspec": {
   "display_name": "Python 3",
   "language": "python",
   "name": "python3"
  },
  "language_info": {
   "codemirror_mode": {
    "name": "ipython",
    "version": 3
   },
   "file_extension": ".py",
   "mimetype": "text/x-python",
   "name": "python",
   "nbconvert_exporter": "python",
   "pygments_lexer": "ipython3",
   "version": "3.6.5"
  }
 },
 "nbformat": 4,
 "nbformat_minor": 2
}
