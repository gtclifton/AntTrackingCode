{
 "cells": [
  {
   "cell_type": "code",
   "execution_count": 1,
   "metadata": {},
   "outputs": [
    {
     "name": "stdout",
     "output_type": "stream",
     "text": [
      "Using matplotlib backend: Qt5Agg\n",
      "---OpenCV Version: 3.4.0\n"
     ]
    }
   ],
   "source": [
    "import numpy as np\n",
    "import cv2\n",
    "import time\n",
    "import os\n",
    "import glob\n",
    "import math\n",
    "import datetime\n",
    "%matplotlib qt5\n",
    "%matplotlib auto\n",
    "import matplotlib.pyplot as plt\n",
    "import matplotlib.colors as colors\n",
    "import matplotlib.patches as patches\n",
    "from matplotlib import path\n",
    "import pickle\n",
    "from scipy import ndimage\n",
    "\n",
    "from scipy.ndimage.morphology import grey_dilation, grey_closing, grey_opening\n",
    "from scipy.ndimage import generate_binary_structure, gaussian_filter\n",
    "\n",
    "# print opencv version\n",
    "ver = cv2.__version__\n",
    "print('---OpenCV Version: ' + ver)"
   ]
  },
  {
   "cell_type": "code",
   "execution_count": 2,
   "metadata": {},
   "outputs": [],
   "source": [
    "%qtconsole"
   ]
  },
  {
   "cell_type": "markdown",
   "metadata": {},
   "source": [
    "## Define Functions"
   ]
  },
  {
   "cell_type": "code",
   "execution_count": 3,
   "metadata": {},
   "outputs": [],
   "source": [
    "def load_video(file):\n",
    "\n",
    "    cap = cv2.VideoCapture(file)\n",
    "    width = int(cap.get(3))\n",
    "    height = int(cap.get(4))\n",
    "    vid_length = np.min([int(cap.get(cv2.CAP_PROP_FRAME_COUNT)),500])\n",
    "\n",
    "    # preallocate\n",
    "    frames_raw = np.zeros((vid_length, height, width), np.uint8)\n",
    "\n",
    "    rgb_convert = np.array([[[0.2989]],[[0.5870]],[[0.1140]]]).T\n",
    "\n",
    "    for kk in range(vid_length):\n",
    "        # Capture frame-by-frame\n",
    "        ret, frame2 = cap.read()\n",
    "        if ret:\n",
    "            img = np.sum(frame2*rgb_convert, axis = 2)\n",
    "            frames_raw[kk,:,:] = img\n",
    "        else:\n",
    "            print('skipping fr %i'%kk)\n",
    "\n",
    "    cap.release()\n",
    "    print('-- %i video frames have been loaded!'%vid_length)\n",
    "    return width, height, vid_length, frames_raw\n"
   ]
  },
  {
   "cell_type": "code",
   "execution_count": 4,
   "metadata": {},
   "outputs": [],
   "source": [
    "def check_rectangles(file):\n",
    "    file_root = file.split('/')[-1]\n",
    "    sname = file[:-4] + '_TunnelCorners.pkl'\n",
    "    if os.path.isfile(sname):\n",
    "        with open(sname, 'rb') as f:\n",
    "            rectangle_corners = pickle.load(f)\n",
    "        if rectangle_corners[0] is None:\n",
    "            print('%s -- None'%file_root)\n",
    "    else:\n",
    "        print('%s -- no file'%file_root)\n",
    "    return\n",
    "\n",
    "def get_rectangles(file):\n",
    "    sname = file[:-4] + '_TunnelCorners.pkl'\n",
    "    if os.path.isfile(sname):\n",
    "        with open(sname, 'rb') as f:\n",
    "            rectangle_corners = pickle.load(f)\n",
    "        if not rectangle_corners[0] is None :\n",
    "            print('loaded rectangle corners from file')\n",
    "            return rectangle_corners\n",
    "        else:\n",
    "            print('problem with rectangles file')\n",
    "            return np.nan\n",
    "    else:\n",
    "        print('no rectangle file!')\n",
    "        return np.nan\n",
    "    \n",
    "# Calculate mask\n",
    "def calculate_mask(rectangle_corners, height, width):\n",
    "\n",
    "    mask = np.zeros((height,width,6))\n",
    "    tmp = np.full((height,width),True)\n",
    "    idcs = np.where(tmp)\n",
    "    for rect_num in range(0,6):\n",
    "        p = path.Path(rectangle_corners[rect_num], closed=False)\n",
    "        tmp2 = p.contains_points(list(zip(*reversed(idcs))), radius = -1 )\n",
    "        mask[idcs[0][tmp2],idcs[1][tmp2],rect_num]=1\n",
    "    del tmp, tmp2, idcs, p\n",
    "\n",
    "    return mask"
   ]
  },
  {
   "cell_type": "code",
   "execution_count": 5,
   "metadata": {},
   "outputs": [],
   "source": [
    "def even_illumination(img, SE_size):\n",
    "    SE = np.ones((SE_size,SE_size)).astype(bool)\n",
    "    img_clos = grey_closing(img, structure = SE)\n",
    "#     img_open = grey_opening(img, structure = SE)\n",
    "    img_bkg = img/img_clos\n",
    "#     img_bkg = 3*img-img_open-img_clos\n",
    "    return img_bkg\n",
    "\n",
    "def get_rid_of_blobs(bkg_div_mask):\n",
    "    cleaned_bkg_div = bkg_div_mask.copy()\n",
    "    for FrNum in range(bkg_div_mask.shape[0]):\n",
    "        frame =bkg_div_mask[FrNum,:,:]>1.15\n",
    "        blobs, number_of_blobs = ndimage.label(frame)\n",
    "        loc = ndimage.find_objects(blobs)\n",
    "        means = np.full((number_of_blobs,2),np.nan)\n",
    "        n_pts = np.full((number_of_blobs),np.nan)\n",
    "        for kk in range(number_of_blobs):\n",
    "            temp = np.where(blobs==kk+1)\n",
    "            if len(temp[0])>6 and len(temp[0])<100:\n",
    "                means[kk,:] = [np.mean(temp[1]), np.mean(temp[0])]\n",
    "                n_pts[kk] = len(temp[0])\n",
    "        x_dist = np.abs(means[:,0][:,None]- means[:,0][None,:])\n",
    "        y_dist = np.abs(means[:,1][:,None]- means[:,1][None,:])\n",
    "        total_dist = np.sqrt(np.square(x_dist)+np.square(y_dist))\n",
    "        close_blobs, counts = np.unique(np.where(np.logical_and(total_dist<30,total_dist>0.001))[0], return_counts=True)\n",
    "        blobs_to_remove = np.concatenate((close_blobs[counts>3], np.where(np.isnan(means[:,0]))[0]))\n",
    "        blobs_to_keep = np.delete(np.arange(0,number_of_blobs),blobs_to_remove)\n",
    "        where_in_frame_remove = np.isin(blobs,blobs_to_remove+1)\n",
    "        cleaned_bkg_div[FrNum,where_in_frame_remove]=0\n",
    "    return cleaned_bkg_div\n",
    "\n",
    "\n",
    "def find_ant_pix_allframes(frames_raw, buffer, mask, bkg_cutoff, height, width, rectangle_corners):\n",
    "    frames = 255-frames_raw\n",
    "    del frames_raw\n",
    "    \n",
    "    # combine all masks\n",
    "    mask_all = np.sum(mask,axis=2).astype(bool)\n",
    "\n",
    "     # find places where is light throughout all of frames and dim\n",
    "    print('-- removing light reflections')\n",
    "    frames_even = frames.copy()\n",
    "    n_brightframes = np.sum(frames[:-1,:,:]<100, axis =0)/frames.shape[0]*mask_all\n",
    "    n_darkframes = np.sum(frames[:-1,:,:]>150, axis =0)/frames.shape[0]*mask_all\n",
    "    frames_even[:,n_brightframes>0.7]=frames_even[:,n_brightframes>0.7]+50\n",
    "    frames_even[:,n_darkframes>0.7]=frames_even[:,n_darkframes>0.7]-50\n",
    "    \n",
    "    # use before and after frames to get rid of background\n",
    "    print('-- taking backgrond division using %i frames one each side of every frame'%buffer)\n",
    "    ainsert = np.full((buffer, height, width), np.nan)\n",
    "    tmp = frames_even.copy().astype(np.float)\n",
    "    tmp = np.insert(tmp, 0, ainsert, axis = 0)\n",
    "    tmp = np.append(tmp, ainsert, axis = 0)\n",
    "    bkg = np.full(frames.shape, np.nan)\n",
    "    for ii,f in enumerate(range(buffer,frames.shape[0]+buffer)):\n",
    "        frs_OI = f+np.delete(np.arange(-1*buffer,buffer+1),buffer)\n",
    "        bkg[ii,:,:]=np.nanmean(tmp[frs_OI,:,:], axis = 0)\n",
    "    del tmp, ainsert\n",
    "    bkg_div =np.divide(frames_even,bkg)\n",
    "    bkg_div_mask = bkg_div.copy()\n",
    "    bkg_div_mask[:,~mask_all]=0 #np.min(bkg_div[mask_all])\n",
    "    del bkg_div, frames_even\n",
    "    \n",
    "    # get rid of small and large blobs\n",
    "    print('-- getting rid of small/large blobs')\n",
    "    bkg_div_blobs = get_rid_of_blobs(bkg_div_mask)\n",
    "    \n",
    "    \n",
    "    # how many ant pixels\n",
    "    print('-- finding ants in each tunnel')\n",
    "    ant_pix = [np.where(bkg_div_blobs[f,:,:]>bkg_cutoff) for f in range(vid_length)]\n",
    "    tunnel_ant_pix = [[None for x in range(6)] for y in range(vid_length)]\n",
    "    tunnel_n_ant_pix = np.full((6,vid_length), np.nan)\n",
    "    for rect_num in range(len(rectangle_corners)):\n",
    "        for fr in range(frames.shape[0]):\n",
    "            p = path.Path(rectangle_corners[rect_num], closed=False)\n",
    "            if np.any(ant_pix[fr][0]) and ant_pix[fr][0].shape[0]<2000:\n",
    "                tmp = p.contains_points(list(zip(*reversed(ant_pix[fr]))), radius = -1 )\n",
    "                if np.sum(tmp)<1500:\n",
    "                    tunnel_ant_pix[fr][rect_num] = np.array(ant_pix[fr])[:,tmp]\n",
    "                    tunnel_n_ant_pix[rect_num, fr] = np.sum(tmp)\n",
    "                    \n",
    "                    \n",
    "    \n",
    "    \n",
    "    del tmp, fr, mask_all, bkg_div_blobs\n",
    "    return bkg_div_mask, ant_pix, tunnel_ant_pix, tunnel_n_ant_pix\n",
    "    \n",
    "\n",
    "\n"
   ]
  },
  {
   "cell_type": "code",
   "execution_count": 6,
   "metadata": {},
   "outputs": [],
   "source": [
    "\n",
    "def save_image(vlocation, nfig, name_base):\n",
    "    pname = os.path.join(vlocation, '%s%d.png'%(name_base,nfig))\n",
    "    plt.savefig(pname)\n",
    "    nfig = nfig + 1\n",
    "#     plt.pause(0.2)\n",
    "#     plt.close('all')\n",
    "    return nfig\n",
    "\n",
    "\n",
    "def save_video(vlocation, name_base):\n",
    "    # save images as movie\n",
    "    if os.path.isfile((vlocation+'/%s.mp4'%name_base)):\n",
    "        os.remove(vlocation + \"/%s.mp4\"%name_base)\n",
    "        print('-- Deleted %s.mp4 file'%name_base)\n",
    "    print('saving %s.mp4 file'%name_base)\n",
    "    command_p1 = \"ffmpeg -r 20 -i '%s/%s\"%(vlocation, name_base)\n",
    "    command_p2 = \" -vcodec libx264 '%s/%s.mp4'\"%(vlocation, name_base)\n",
    "    command = command_p1 + \"%01d.png'\" + command_p2\n",
    "#     print(command)\n",
    "    os.system(command)\n",
    "    plt.pause(10)\n",
    "    print('-- Saved video file')\n",
    "    \n",
    "    # delete all trackway vids\n",
    "    pics2delete = glob.glob(os.path.join(vlocation, '%s*.png'%name_base))\n",
    "    for pic in pics2delete:\n",
    "        os.remove(pic)\n",
    "    print('-- Deleted pics')\n",
    "    return"
   ]
  },
  {
   "cell_type": "code",
   "execution_count": null,
   "metadata": {},
   "outputs": [],
   "source": []
  },
  {
   "cell_type": "markdown",
   "metadata": {},
   "source": [
    "## MAIN BODY OF PROGRAM"
   ]
  },
  {
   "cell_type": "code",
   "execution_count": 7,
   "metadata": {},
   "outputs": [],
   "source": [
    "# where we lookin?\n",
    "vfolder = '/media/gravishlab/SeagateExpansionDrive/AntTunnelPreference/Outdoor'\n",
    "file_list = sorted(glob.glob(os.path.join(vfolder, '**[B,F].MP4')))"
   ]
  },
  {
   "cell_type": "code",
   "execution_count": 8,
   "metadata": {},
   "outputs": [
    {
     "name": "stdout",
     "output_type": "stream",
     "text": [
      "all done!\n"
     ]
    }
   ],
   "source": [
    "# which files do you need to select rectangles for?\n",
    "for file in file_list:\n",
    "    check_rectangles(file)\n",
    "print('all done!')"
   ]
  },
  {
   "cell_type": "code",
   "execution_count": 9,
   "metadata": {},
   "outputs": [
    {
     "name": "stdout",
     "output_type": "stream",
     "text": [
      "loading tracked data from: 2018_10_25_B.MP4\n",
      "loading tracked data from: 2018_10_25_F.MP4\n",
      "loading tracked data from: 2018_10_26_B.MP4\n",
      "loading tracked data from: 2018_10_26_F.MP4\n",
      "loading tracked data from: 2018_10_29_F.MP4\n",
      "loading tracked data from: 2018_10_30_B.MP4\n",
      "loading tracked data from: 2018_10_30_F.MP4\n",
      "loading tracked data from: 2018_10_31_B.MP4\n",
      "loading tracked data from: 2018_10_31_F.MP4\n",
      "loading tracked data from: 2018_11_2_B.MP4\n",
      "loading tracked data from: 2018_11_2_F.MP4\n",
      "loading tracked data from: 2018_11_3_B.MP4\n",
      "loading tracked data from: 2018_11_3_F.MP4\n",
      "loading tracked data from: 2018_11_4_F.MP4\n",
      "loading tracked data from: 2018_11_5_F.MP4\n",
      "Done!\n"
     ]
    }
   ],
   "source": [
    "\n",
    "vfolder = '/media/gravishlab/SeagateExpansionDrive/AntTunnelPreference/Outdoor'\n",
    "file_list = sorted(glob.glob(os.path.join(vfolder, '**[B,F].MP4')))\n",
    "\n",
    "all_tracked_data = [0]*len(file_list)\n",
    "\n",
    "for ff,file in enumerate(file_list):\n",
    "    sname = file[:-4] + '_TrackedData.pkl'\n",
    "    \n",
    "    if os.path.isfile(sname):\n",
    "        print('loading tracked data from: %s'%file.split('/')[-1])\n",
    "        with open(sname, 'rb') as f:\n",
    "            all_tracked_data[ff] = pickle.load(f)\n",
    "        f.close()\n",
    "        \n",
    "    else:\n",
    "\n",
    "        # load video\n",
    "        print('loading video frames from: ')\n",
    "        print(file)\n",
    "        width, height, vid_length, frames_raw = load_video(file)\n",
    "\n",
    "        # load rectangles of interest to analyze\n",
    "        rectangle_corners = get_rectangles(file)\n",
    "\n",
    "        # calculate mask\n",
    "        print('\\ncalculating mask')\n",
    "        mask = calculate_mask(rectangle_corners, height, width)\n",
    "\n",
    "        # analyze video\n",
    "        print('\\nAnalyzing whole video to identify ants in each tunnel')\n",
    "        buffer = 2\n",
    "        bkg_div_mask, ant_pix, tunnel_ant_pix, tunnel_n_ant_pix = find_ant_pix_allframes(frames_raw, buffer, mask, 1.15, height, width, rectangle_corners)\n",
    "        # tunnel_n_ant_pix[tunnel_n_ant_pix>1500]=np.nan\n",
    "        \n",
    "        all_tracked_data[ff] = tunnel_n_ant_pix\n",
    "\n",
    "        print('\\nSaving tracked data\\n\\n')\n",
    "        sname = file[:-4] + '_TrackedData.pkl'\n",
    "        with open(sname, 'wb') as f:\n",
    "            pickle.dump(tunnel_n_ant_pix, f)\n",
    "        f.close()\n",
    "\n",
    "    \n",
    "print('Done!')"
   ]
  },
  {
   "cell_type": "code",
   "execution_count": 10,
   "metadata": {},
   "outputs": [
    {
     "name": "stdout",
     "output_type": "stream",
     "text": [
      "[[0.84787076 0.86978373 0.84192726]\n",
      " [0.81239689 0.84883366 0.17485737]\n",
      " [0.78300631 0.36954853 0.69800789]\n",
      " [0.6060267  0.83540473 0.76599467]\n",
      " [0.31138806 0.71533129 0.39457976]\n",
      " [       nan 0.54734428 0.4020767 ]\n",
      " [0.7654937  0.81373546 0.75475294]\n",
      " [0.88999359 0.8393372  0.82728381]\n",
      " [0.6046625  0.71665494 0.74929563]\n",
      " [       nan        nan 0.91278218]\n",
      " [0.63292608 0.5665802  0.59571111]\n",
      " [0.81071994 0.78892006 0.72517452]\n",
      " [0.7147111  0.76234355 0.43563433]\n",
      " [0.72756654 0.18650023 0.25326547]\n",
      " [0.74180188 0.54603516 0.49326326]]\n",
      "Ttest_indResult(statistic=0.5707214429098816, pvalue=0.5732832033641659)\n",
      "Ttest_indResult(statistic=0.8720869382173182, pvalue=0.3908503086409232)\n",
      "Ttest_indResult(statistic=-1.4800623011953986, pvalue=0.15087302948011136)\n"
     ]
    },
    {
     "data": {
      "text/plain": [
       "(0, 1)"
      ]
     },
     "execution_count": 10,
     "metadata": {},
     "output_type": "execute_result"
    }
   ],
   "source": [
    "# plot all data together\n",
    "plt.close('all')\n",
    "pltcolors = ['#BA4246', '#087E8B', '#701C6F']\n",
    "plt.figure()\n",
    "for ii,idc in enumerate(range(0,len(all_tracked_data))):\n",
    "    \n",
    "    if not isinstance(all_tracked_data[idc], int):\n",
    "\n",
    "\n",
    "        total_ant_pix = np.nansum(all_tracked_data[idc], axis = 1)\n",
    "        x_pos = np.repeat(np.arange(ii, ii+2*(len(all_tracked_data)+1)+1,len(all_tracked_data)+1),2)\n",
    "        plt.bar(x_pos, total_ant_pix*np.array([1,-1,1,-1,1,-1]),align='edge', width = 1, \n",
    "             alpha = 0.4, linewidth = 0, color = np.repeat(pltcolors,2))\n",
    "        plt.xticks( len(all_tracked_data)/2 + (len(all_tracked_data)+1)*np.array([0,1,2]), ('1 mm','3 mm', '5 mm'))\n",
    "        plt.yticks([])\n",
    "        plt.axhline(y=0, xmin=0, xmax=1,  alpha = 0.2, color = 'k', linewidth = 0.5)\n",
    "\n",
    "plt.title('all trials', loc='left')\n",
    "down, up = plt.ylim()\n",
    "plt.text(-.5,up-1500, 'smooth')\n",
    "plt.text(-.5,down+1000, 'rough')\n",
    "plt.ylabel('total ant pixels')\n",
    "\n",
    "\n",
    "# plot as percentage of total pixels\n",
    "from scipy import stats\n",
    "flat_and_rough_pixels = np.array(\n",
    "    [np.sum(np.reshape(np.nansum(tdata,axis =1), (3,2)), axis =1) for tdata in all_tracked_data])\n",
    "flat_pixels = np.array(\n",
    "    [np.nansum(tdata[::2],axis =1) for tdata in all_tracked_data])\n",
    "percent_flat_pixels = flat_pixels/flat_and_rough_pixels\n",
    "cutoff = 5000 # at least 5000 total ant pixels to count trial\n",
    "percent_flat_pixels[flat_and_rough_pixels < cutoff] = np.nan\n",
    "print(percent_flat_pixels)\n",
    "data_for_anova =  [[ g for g in gs if not math.isnan(g)] for gs in percent_flat_pixels.T.tolist()]\n",
    "stats_2way = [stats.ttest_1samp(data, 0.5)[1] for data in data_for_anova]\n",
    "stats_comparisons = []\n",
    "comp_list = [0,1,2,0]\n",
    "for cc in range(0,3):\n",
    "    p_val = stats.ttest_ind(data_for_anova[comp_list[cc]], data_for_anova[comp_list[cc+1]])\n",
    "    print(p_val)\n",
    "    stats_comparisons.append(p_val)\n",
    "\n",
    "\n",
    "plt.figure()\n",
    "plt.bar(np.arange(1,6,2), np.nanmean(percent_flat_pixels, axis = 0), \n",
    "        yerr = np.nanstd(percent_flat_pixels, axis = 0), color = pltcolors)\n",
    "for pp, p_val in enumerate(stats_2way):\n",
    "    plt.text(1+2*pp, 0.9, 'p = %0.4f'%p_val, horizontalalignment = 'center')\n",
    "    plt.text(2+2*pp, 0.3, 'p = %0.3f'%stats_comparisons[pp][1], horizontalalignment = 'center' )\n",
    "plt.axhline(y=0.5, xmin=0, xmax=1,  alpha = 0.2, color = 'k', linewidth = 0.5)\n",
    "plt.ylim((0,1))"
   ]
  },
  {
   "cell_type": "code",
   "execution_count": 53,
   "metadata": {},
   "outputs": [
    {
     "name": "stdout",
     "output_type": "stream",
     "text": [
      "[ 0  0  7  7 14 14]\n",
      "[ 1  1  8  8 15 15]\n",
      "[ 2  2  9  9 16 16]\n",
      "[ 3  3 10 10 17 17]\n",
      "[ 4  4 11 11 18 18]\n",
      "[ 5  5 12 12 19 19]\n",
      "[[0.84787076 0.86978373 0.84192726]\n",
      " [0.81239689 0.84883366 0.17485737]\n",
      " [0.78300631 0.36954853 0.69800789]\n",
      " [0.6060267  0.83540473 0.76599467]\n",
      " [0.31138806 0.71533129 0.39457976]\n",
      " [       nan 0.54734428 0.4020767 ]\n",
      " [0.7654937  0.81373546 0.75475294]\n",
      " [0.88999359 0.8393372  0.82728381]\n",
      " [0.6046625  0.71665494 0.74929563]\n",
      " [       nan        nan 0.91278218]\n",
      " [0.63292608 0.5665802  0.59571111]\n",
      " [0.81071994 0.78892006 0.72517452]\n",
      " [0.7147111  0.76234355 0.43563433]]\n"
     ]
    },
    {
     "data": {
      "text/plain": [
       "<BarContainer object of 3 artists>"
      ]
     },
     "execution_count": 53,
     "metadata": {},
     "output_type": "execute_result"
    }
   ],
   "source": [
    "# plot data by backyard or field\n",
    "backyard_idcs = np.where(['B' in f for f in file_list])[0]\n",
    "field_idcs = np.where(['F' in f for f in file_list])[0]\n",
    "\n",
    "plt.close('all')\n",
    "plt.figure()\n",
    "for ii,idc in enumerate(backyard_idcs):\n",
    "    \n",
    "    if not isinstance(all_tracked_data[idc], int):\n",
    "\n",
    "\n",
    "        total_ant_pix = np.nansum(all_tracked_data[idc], axis = 1)\n",
    "        x_pos = np.repeat(np.arange(ii, ii+2*(len(backyard_idcs)+1)+1,len(backyard_idcs)+1),2)\n",
    "        print(x_pos)\n",
    "        plt.bar(x_pos, total_ant_pix*np.array([1,-1,1,-1,1,-1]),align='edge', width = 1, \n",
    "             alpha = 0.4, linewidth = 0, color = np.repeat(['r','g','b'],2))\n",
    "        plt.xticks( len(backyard_idcs)/2 + (len(backyard_idcs)+1)*np.array([0,1,2]), ('1 mm','3 mm', '5 mm'))\n",
    "        plt.yticks([])\n",
    "        plt.axhline(y=0, xmin=0, xmax=1,  alpha = 0.2, color = 'k', linewidth = 0.5)\n",
    "\n",
    "plt.title('backyard trials')\n",
    "down, up = plt.ylim()\n",
    "plt.text(-.5,up-1000, 'smooth')\n",
    "plt.text(-.5,down+1000, 'rough')\n",
    "plt.ylabel('total ant pixels')\n",
    "\n",
    "\n",
    "\n",
    "    \n",
    "# # #     for rect_num in range(0,6):\n",
    "# # #         plt.plot(range(0,FrNum+1), np.nancumsum(tunnel_ant_pix[rect_num,:])[0:FrNum+1], \n",
    "# # #                          '-', color = pltcolors[rect_num], alpha = 0.9)\n",
    "#     for rect_num in range(0,6):\n",
    "#         plt.bar(range(0,FrNum+1)+np.floor(rect_num/2)/3, (rect_num%2*2-1)*tunnel_n_ant_pix[rect_num,:FrNum+1], \n",
    "#                          width=1, align='edge', color = pltcolors[rect_num], alpha = 0.3, linewidth = 0)\n",
    "#         plt.axhline(y=0, xmin=0, xmax=1,  alpha = 0.2, color = 'k', linewidth = 0.5)\n",
    "#     plt.xlim(0, vid_length)\n",
    "#     plt.ylim(-1300, 1300)\n",
    "#     plt.xlabel('Frame')\n",
    "#     ax3.axes.get_yaxis().set_ticks([])\n",
    "#     plt.ylabel('n ant pixels')\n",
    "#     plt.text(vid_length-10, 1250, 'rough substrate', horizontalalignment='right', verticalalignment = 'top')\n",
    "#     plt.text(vid_length-10, -1250, 'smooth substrate', horizontalalignment='right', verticalalignment = 'bottom')\n",
    "    "
   ]
  },
  {
   "cell_type": "code",
   "execution_count": null,
   "metadata": {},
   "outputs": [],
   "source": []
  },
  {
   "cell_type": "code",
   "execution_count": null,
   "metadata": {},
   "outputs": [],
   "source": []
  },
  {
   "cell_type": "markdown",
   "metadata": {},
   "source": [
    "## FOR A GIVEN FILE, SELECT RECTANGLES AND SAVE"
   ]
  },
  {
   "cell_type": "code",
   "execution_count": 20,
   "metadata": {},
   "outputs": [
    {
     "name": "stdout",
     "output_type": "stream",
     "text": [
      "/media/gravishlab/SeagateExpansionDrive/AntTunnelPreference/Outdoor/2018_11_5_F.MP4\n",
      "loading frames\n",
      "\n",
      "-- 500 video frames have been loaded!\n",
      "Select rangles for each tunnel!\n",
      "ESC to go to next tunnel\n",
      "Q or q to quit\n",
      "Select corners in clockwise direction\n",
      "\n",
      "--Select rectangle for tunnel: 0 mm - Done!\n",
      "--Select rectangle for tunnel: 1 mm - Done!\n",
      "--Select rectangle for tunnel: 0 mm - Done!\n",
      "--Select rectangle for tunnel: 3 mm - Done!\n",
      "--Select rectangle for tunnel: 0 mm - Done!\n",
      "--Select rectangle for tunnel: 5 mm - Done!\n",
      "\n",
      " RectangleSelector deactivated.\n"
     ]
    }
   ],
   "source": [
    "# GUI TO FIND INDICES OF POLYGON FOR EACH RECTANGLE\n",
    "file=file_list[-1]\n",
    "print(file)\n",
    "print('loading frames\\n')\n",
    "width, height, vid_length, frames_raw = load_video(file)\n",
    "\n",
    "sname = file[:-4] + '_TunnelCorners.pkl'\n",
    "global rect_num, rectangle_corners\n",
    "\n",
    "\n",
    "\n",
    "# if os.path.isfile(sname):\n",
    "#     print('loading rectangle corners from file')\n",
    "#     with open(sname, 'rb') as f:\n",
    "#         rectangle_corners = pickle.load(f)\n",
    "# else:\n",
    "#     print('no file')\n",
    "from matplotlib.widgets import PolygonSelector\n",
    "\n",
    "def line_select_callback(eclick, erelease):\n",
    "    'eclick and erelease are the press and release events'\n",
    "    x1, y1 = eclick.xdata, eclick.ydata\n",
    "    x2, y2 = erelease.xdata, erelease.ydata\n",
    "    print(\"(%3.2f, %3.2f) --> (%3.2f, %3.2f)\" % (x1, y1, x2, y2))\n",
    "    print(\" The button you used were: %s %s\" % (eclick.button, erelease.button))\n",
    "\n",
    "def onselect(verts):\n",
    "#         print(verts, rect_num)\n",
    "        rectangle_corners[rect_num] = verts\n",
    "#         self.ind = np.nonzero(path.contains_points(self.xys))[0]\n",
    "#         self.fc[:, -1] = 0.3\n",
    "# #         self.fc[self.ind, -1] = 1\n",
    "#         self.collection.set_facecolors(self.fc)\n",
    "#         self.canvas.draw_idle()\n",
    "\n",
    "def toggle_selector(event):\n",
    "    global rect_num\n",
    "    if event.key=='escape' and toggle_selector.RS.active:\n",
    "        print(' - Done!')\n",
    "        rect_num = rect_num + 1\n",
    "        if rect_num <= len(substrates)-1:\n",
    "            print('--Select rectangle for tunnel: %i mm'%substrates[rect_num], end = '', flush =True)\n",
    "        else:\n",
    "            event.key = 'Q'\n",
    "    if event.key in ['Q', 'q'] and toggle_selector.RS.active:\n",
    "        print('\\n RectangleSelector deactivated.')\n",
    "        toggle_selector.RS.set_active(False)\n",
    "    if event.key in ['A', 'a'] and not toggle_selector.RS.active:\n",
    "        print('\\n RectangleSelector activated.')\n",
    "        toggle_selector.RS.set_active(True)\n",
    "\n",
    "\n",
    "\n",
    "#     global rect_num, rectangle_corners\n",
    "rect_num = 0\n",
    "rectangle_corners = 6*[None]\n",
    "substrates = [0,1,0,3,0,5]\n",
    "\n",
    "plt.close('all')\n",
    "fig = plt.figure(figsize = (18,10))\n",
    "plt.title('Select rectangles for each tunnel')\n",
    "current_ax = plt.gca()\n",
    "plt.imshow(frames_raw[30,:,:], cmap = 'gray')\n",
    "print('Select rangles for each tunnel!')\n",
    "print('ESC to go to next tunnel')\n",
    "print('Q or q to quit')\n",
    "print('Select corners in clockwise direction')\n",
    "print('\\n--Select rectangle for tunnel: %i mm'%substrates[rect_num], end = '', flush =True)\n",
    "# toggle_selector.RS = RectangleSelector(current_ax, line_select_callback,\n",
    "#                                        drawtype='box', useblit=True,\n",
    "#                                        button=[1, 3],  # don't use middle button\n",
    "#                                        minspanx=5, minspany=5,\n",
    "#                                        spancoords='pixels',\n",
    "#                                        interactive=True)\n",
    "\n",
    "toggle_selector.RS = PolygonSelector(current_ax, onselect, \n",
    "                                     useblit=False, \n",
    "                                     lineprops=None, \n",
    "                                     markerprops=None, \n",
    "                                     vertex_select_radius=15)\n",
    "plt.connect('key_press_event', toggle_selector)\n",
    "plt.show()\n",
    "    \n",
    "# if not os.path.isfile(sname):\n",
    "#     print('saving rectangle corners to file')\n",
    "#     with open(sname, 'wb') as f:\n",
    "#         pickle.dump(rectangle_corners, f)"
   ]
  },
  {
   "cell_type": "code",
   "execution_count": 21,
   "metadata": {},
   "outputs": [
    {
     "name": "stdout",
     "output_type": "stream",
     "text": [
      "saving rectangle corners to file\n"
     ]
    }
   ],
   "source": [
    "\n",
    "def save_rectangles(file, rectangle_corners):\n",
    "    sname = file[:-4] + '_TunnelCorners.pkl'\n",
    "    if os.path.isfile(sname):\n",
    "        os.remove(sname)\n",
    "    \n",
    "    print('saving rectangle corners to file')\n",
    "    with open(sname, 'wb') as f:\n",
    "        pickle.dump(rectangle_corners, f)\n",
    "    return\n",
    "\n",
    "save_rectangles(file, rectangle_corners)"
   ]
  },
  {
   "cell_type": "code",
   "execution_count": null,
   "metadata": {},
   "outputs": [],
   "source": []
  },
  {
   "cell_type": "code",
   "execution_count": 37,
   "metadata": {},
   "outputs": [],
   "source": []
  },
  {
   "cell_type": "markdown",
   "metadata": {},
   "source": [
    "## Plot and save analysis"
   ]
  },
  {
   "cell_type": "code",
   "execution_count": 19,
   "metadata": {},
   "outputs": [
    {
     "name": "stdout",
     "output_type": "stream",
     "text": [
      "loading video frames from: \n",
      "/media/gravishlab/SeagateExpansionDrive/AntTunnelPreference/Outdoor/2018_10_27_F.MP4\n",
      "-- 484 video frames have been loaded!\n",
      "loaded rectangle corners from file\n",
      "\n",
      "calculating mask\n",
      "\n",
      "Analyzing whole video to identify ants in each tunnel\n",
      "-- removing light reflections\n",
      "-- taking backgrond division using 2 frames one each side of every frame\n",
      "-- getting rid of small/large blobs\n"
     ]
    },
    {
     "name": "stderr",
     "output_type": "stream",
     "text": [
      "/home/gravishlab/.virtualenvs/ants/lib/python3.6/site-packages/ipykernel_launcher.py:25: RuntimeWarning: invalid value encountered in less\n",
      "/home/gravishlab/.virtualenvs/ants/lib/python3.6/site-packages/ipykernel_launcher.py:25: RuntimeWarning: invalid value encountered in greater\n"
     ]
    },
    {
     "name": "stdout",
     "output_type": "stream",
     "text": [
      "-- finding ants in each tunnel\n",
      "saving 2018_10_27_F_Analysis.mp4 file\n",
      "-- Saved video file\n",
      "-- Deleted pics\n",
      "\n",
      "\n",
      "Done!\n"
     ]
    }
   ],
   "source": [
    "save_vid = True\n",
    "\n",
    "file = file_list[-1]\n",
    "\n",
    "# load video\n",
    "print('loading video frames from: ')\n",
    "print(file)\n",
    "width, height, vid_length, frames_raw = load_video(file)\n",
    "\n",
    "# load rectangles of interest to analyze\n",
    "rectangle_corners = get_rectangles(file)\n",
    "\n",
    "# calculate mask\n",
    "print('\\ncalculating mask')\n",
    "mask = calculate_mask(rectangle_corners, height, width)\n",
    "\n",
    "# analyze video\n",
    "print('\\nAnalyzing whole video to identify ants in each tunnel')\n",
    "buffer = 2\n",
    "bkg_div_mask, ant_pix, tunnel_ant_pix, tunnel_n_ant_pix = find_ant_pix_allframes(frames_raw, buffer, mask, 1.15, height, width, rectangle_corners)\n",
    "\n",
    "\n",
    "substrates = [0,1,0,3,0,5]\n",
    "pltcolors =['r','r','g','g','b','b']\n",
    "pltlinestyles = ['--','-']\n",
    "plt.close('all')\n",
    "\n",
    "plt.figure(figsize = (18,5))\n",
    "for FrNum in range(0,vid_length):\n",
    "    plt.clf()\n",
    "\n",
    "# #     # use image processing to find ant_pix\n",
    "# #     ant_pix, img_bkg, total_ant_pix = find_ant_pix(frames, FrNum, buffer, mask, 1.15)\n",
    "\n",
    "\n",
    "    ax1 = plt.subplot(1,3,1)\n",
    "    plt.imshow(frames_raw[FrNum,:,:],cmap = 'gray', norm = colors.Normalize(vmin=0, vmax=255))\n",
    "    plt.text(10,-30, 'Fr: %i'%FrNum, color = [0.2,0.2,0.2])\n",
    "    plt.text(10,-100, 'File: %s'%file.split('/')[-1], color = [0.2,0.2,0.2])\n",
    "    ax2=plt.subplot(1,3,2)\n",
    "    plt.imshow(bkg_div_mask[FrNum,:,:], cmap = 'gray', norm = colors.Normalize(vmin=0, vmax=1.5))\n",
    "    \n",
    "    for rect_num in range(0,6):\n",
    "        for ax in {ax1,ax2}:\n",
    "            plt.sca(ax)\n",
    "            patch = patches.PathPatch(path.Path(rectangle_corners[rect_num], closed=False), \n",
    "                                  facecolor='none', lw=0.5,\n",
    "                                 ec = pltcolors[rect_num], ls = pltlinestyles[rect_num%2])\n",
    "            p = path.Path(rectangle_corners[rect_num], closed=False)\n",
    "            plt.gca().add_patch(patch)\n",
    "            if (rect_num%2==1) and (ax==ax1):\n",
    "                plt.text(10, 50+rect_num*20, '%i mm'%substrates[rect_num], color = pltcolors[rect_num])\n",
    "\n",
    "            if tunnel_n_ant_pix[rect_num,FrNum]>0 and np.sum(tunnel_n_ant_pix[:,FrNum])<2000:\n",
    "                plt.plot(tunnel_ant_pix[FrNum][rect_num][1], tunnel_ant_pix[FrNum][rect_num][0], \n",
    "                         '.', color = pltcolors[rect_num], MarkerSize = 0.5, alpha = 0.5)\n",
    "#                 else:\n",
    "#                     print('too many ant points = likely lighting change %i'%FrNum)\n",
    "    for ax in {ax1,ax2}:\n",
    "        plt.sca(ax)\n",
    "        plt.axis('off')\n",
    "    # restict axis 2 to be just tunnels\n",
    "    mins=np.min(np.min(np.array(rectangle_corners),axis =1),axis=0)\n",
    "    maxs=np.max(np.max(np.array(rectangle_corners),axis =1),axis=0)\n",
    "    ax2.set_xlim([mins[0]-5,maxs[0]+5])\n",
    "    ax2.set_ylim([maxs[1]+5,mins[1]-5])\n",
    "        \n",
    "        \n",
    "    ax3 = plt.subplot(1,3,3)\n",
    "# #     for rect_num in range(0,6):\n",
    "# #         plt.plot(range(0,FrNum+1), np.nancumsum(tunnel_ant_pix[rect_num,:])[0:FrNum+1], \n",
    "# #                          '-', color = pltcolors[rect_num], alpha = 0.9)\n",
    "    for rect_num in range(0,6):\n",
    "        plt.bar(range(0,FrNum+1)+np.floor(rect_num/2)/3, (rect_num%2*2-1)*tunnel_n_ant_pix[rect_num,:FrNum+1], \n",
    "                         width=1, align='edge', color = pltcolors[rect_num], alpha = 0.3, linewidth = 0)\n",
    "        plt.axhline(y=0, xmin=0, xmax=1,  alpha = 0.2, color = 'k', linewidth = 0.5)\n",
    "    plt.xlim(0, vid_length)\n",
    "    plt.ylim(-1300, 1300)\n",
    "    plt.xlabel('Frame')\n",
    "    ax3.axes.get_yaxis().set_ticks([])\n",
    "    plt.ylabel('n ant pixels')\n",
    "    plt.text(vid_length-10, 1250, 'rough substrate', horizontalalignment='right', verticalalignment = 'top')\n",
    "    plt.text(vid_length-10, -1250, 'smooth substrate', horizontalalignment='right', verticalalignment = 'bottom')\n",
    "    \n",
    "    \n",
    "\n",
    "    plt.pause(0.5)\n",
    "    if save_vid:\n",
    "        save_image(vfolder, FrNum, file.split('/')[-1][:-4]+'_Analysis')\n",
    "    \n",
    "if save_vid:\n",
    "    save_video(vfolder, file.split('/')[-1][:-4]+'_Analysis')\n",
    "    \n",
    "    \n",
    "print('\\n\\nDone!')"
   ]
  },
  {
   "cell_type": "code",
   "execution_count": null,
   "metadata": {},
   "outputs": [],
   "source": []
  },
  {
   "cell_type": "code",
   "execution_count": null,
   "metadata": {},
   "outputs": [],
   "source": []
  },
  {
   "cell_type": "code",
   "execution_count": null,
   "metadata": {},
   "outputs": [],
   "source": []
  },
  {
   "cell_type": "markdown",
   "metadata": {},
   "source": [
    "## Analyze each frame to find ants on each substrate"
   ]
  },
  {
   "cell_type": "code",
   "execution_count": 44,
   "metadata": {},
   "outputs": [
    {
     "name": "stdout",
     "output_type": "stream",
     "text": [
      "Analyzing whole video to identify ants in each tunnel\n",
      "-- removing light reflections\n",
      "-- taking backgrond division using 2 frames one each side of every frame\n",
      "-- getting rid of small/large blobs\n"
     ]
    },
    {
     "name": "stderr",
     "output_type": "stream",
     "text": [
      "/home/gravishlab/.virtualenvs/ants/lib/python3.6/site-packages/ipykernel_launcher.py:25: RuntimeWarning: invalid value encountered in less\n",
      "/home/gravishlab/.virtualenvs/ants/lib/python3.6/site-packages/ipykernel_launcher.py:25: RuntimeWarning: invalid value encountered in greater\n"
     ]
    },
    {
     "name": "stdout",
     "output_type": "stream",
     "text": [
      "-- finding ants in each tunnel\n",
      "\n",
      "Done!\n"
     ]
    }
   ],
   "source": [
    "\n",
    "frames = 255-frames_raw\n",
    "buffer = 2\n",
    "\n",
    "print('Analyzing whole video to identify ants in each tunnel')\n",
    "bkg_div_mask, ant_pix, tunnel_ant_pix, tunnel_n_ant_pix = find_ant_pix_allframes(frames, buffer, mask, 1.15, height, width, rectangle_corners)\n",
    "# tunnel_n_ant_pix[tunnel_n_ant_pix>1500]=np.nan\n",
    "\n",
    "print('save data')\n",
    "sname = file[:-4] + '_TrackedData.pkl'\n",
    "with open(sname, 'wb') as f:\n",
    "    pickle.dump(tunnel_n_ant_pix, f)\n",
    "del frames,f\n",
    "\n",
    "print('\\nDone!')\n"
   ]
  },
  {
   "cell_type": "code",
   "execution_count": null,
   "metadata": {},
   "outputs": [],
   "source": []
  },
  {
   "cell_type": "code",
   "execution_count": 55,
   "metadata": {},
   "outputs": [
    {
     "name": "stdout",
     "output_type": "stream",
     "text": [
      "save data\n"
     ]
    }
   ],
   "source": []
  },
  {
   "cell_type": "code",
   "execution_count": null,
   "metadata": {},
   "outputs": [],
   "source": []
  },
  {
   "cell_type": "code",
   "execution_count": null,
   "metadata": {},
   "outputs": [],
   "source": []
  },
  {
   "cell_type": "code",
   "execution_count": 300,
   "metadata": {},
   "outputs": [
    {
     "data": {
      "text/plain": [
       "(-0.5, 1279.5, 719.5, -0.5)"
      ]
     },
     "execution_count": 300,
     "metadata": {},
     "output_type": "execute_result"
    }
   ],
   "source": [
    "\n",
    "FrNum = 130\n",
    "buffer =1\n",
    "\n",
    "plt.close('all')\n",
    "plt.figure(figsize = (15,6))\n",
    "\n",
    "img = frames[FrNum,:,:]\n",
    "img_even = even_illumination(img, 20)\n",
    "\n",
    "SE = np.ones((4,4)).astype(bool)\n",
    "img_dil = grey_dilation(img, structure = SE)\n",
    "img_clos = grey_closing(img, structure = SE)\n",
    "# img_bkg = img-img_dil\n",
    "img_bkg = img/img_clos\n",
    "img_bkg2 = img_bkg/grey_dilation(img_bkg, structure = SE)\n",
    "\n",
    "\n",
    "\n",
    "frames_even = np.full(frames[FrNum-buffer:FrNum+buffer+1, :,:].shape, np.nan)\n",
    "for ff,fn in enumerate(range(FrNum-buffer, FrNum+buffer+1)):\n",
    "    frames_even[ff]=even_illumination(frames[fn,:,:], 4)\n",
    "bkg = np.mean(frames_even, axis = 0)\n",
    "bkg_div =frames_even[1,:,:]/bkg\n",
    "bkg_div_mask = bkg_div.copy()\n",
    "\n",
    "\n",
    "\n",
    "\n",
    "\n",
    "\n",
    "glenna = frames_even[1,:,:]-even_illumination(frames[0,:,:],4)\n",
    "clifton = gaussian_filter(img, 4)\n",
    "talbot = img-clifton\n",
    "\n",
    "\n",
    "\n",
    "\n",
    "plt.subplot(1,3,1)\n",
    "plt.imshow(img, cmap = 'gray', norm = colors.Normalize(vmin=0, vmax=255))\n",
    "plt.axis('off')\n",
    "\n",
    "plt.subplot(1,3,2)\n",
    "plt.imshow(img_even, cmap = 'gray')#, norm = colors.Normalize(vmin=0, vmax=1.5))\n",
    "# plt.imshow(img/clifton>1.15, \n",
    "#            cmap = 'gray', norm = colors.Normalize(vmin=0, vmax=2))\n",
    "plt.axis('off')\n",
    "plt.subplot(1,3,3)\n",
    "plt.imshow(img-img_even, cmap = 'gray', norm = colors.Normalize(vmin=0, vmax=150))\n",
    "plt.axis('off')"
   ]
  },
  {
   "cell_type": "code",
   "execution_count": 28,
   "metadata": {},
   "outputs": [],
   "source": [
    "plt.close('all')\n",
    "for FrNum in range(20,23):\n",
    "    img = frames[FrNum,:,:]\n",
    "    img_even = even_illumination(img, 20)\n",
    "    plt.figure(figsize = (10,4))\n",
    "    plt.subplot(1,2,1)\n",
    "    plt.imshow(img, cmap = 'gray', norm = colors.Normalize(vmin=0, vmax=255))\n",
    "    plt.subplot(1,2,2)\n",
    "    plt.imshow(img_even, cmap = 'gray', norm = colors.Normalize(vmin=0, vmax=255))\n",
    "    \n",
    "del img, img_even, FrNum"
   ]
  },
  {
   "cell_type": "code",
   "execution_count": null,
   "metadata": {},
   "outputs": [],
   "source": []
  },
  {
   "cell_type": "code",
   "execution_count": 23,
   "metadata": {},
   "outputs": [
    {
     "name": "stderr",
     "output_type": "stream",
     "text": [
      "/home/gravishlab/.virtualenvs/ants/lib/python3.6/site-packages/ipykernel_launcher.py:1: RuntimeWarning: invalid value encountered in true_divide\n",
      "  \"\"\"Entry point for launching an IPython kernel.\n"
     ]
    }
   ],
   "source": [
    "pixchange = np.nansum(np.nansum(np.diff(np.divide(frames_raw[:,:,:],np.mean(frames_raw[:,:,:],axis =0)), axis = 0),axis=1),axis=1)/(720*1280)\n",
    "n_bigpixchange = np.sum(np.sum(np.diff(frames_raw[:,:,300::], axis = 0)>50,axis=1),axis=1)/(720*980)\n",
    "n_white = np.sum(np.sum(frames_raw[:,:,:]>230,axis=1),axis=1)\n",
    "n_dark = np.sum(np.sum(frames_raw[:,:,:]<50,axis=1),axis=1)/(720*1280)\n",
    "# glenna = (n_white+n_dark)/(720*1280)\n",
    "glenna = (n_dark)/(720*1280)\n",
    "# clifton = (n_white+n_dark)/(720*1280)\n",
    "# glenna = n_white/n_dark\n",
    "\n",
    "plt.close('all')\n",
    "plt.figure()\n",
    "# plt.plot(glenna)\n",
    "plt.plot(pixchange, 'k')\n",
    "# plt.plot(clifton)\n",
    "# plt.plot(np.abs(np.diff(clifton)),'--')\n",
    "# plt.axhline(y=0.28, xmin=0, xmax=1, alpha = 0.2, color = 'k')\n",
    "\n",
    "\n",
    "frOI = 47\n",
    "plt.figure(figsize=(10,3))\n",
    "n_figs = 5\n",
    "for ss,fr in enumerate( range(int(frOI-(n_figs-1)/2), int(frOI+(n_figs-1)/2+1))):\n",
    "    plt.subplot(1,n_figs,ss+1)\n",
    "    plt.imshow(frames_raw[fr,:,:], cmap='gray')\n",
    "    plt.axis('off')\n",
    "    plt.text( 20, 40, 'Fr: %s'%fr, color = [0.5, 0.5, 0.5])"
   ]
  },
  {
   "cell_type": "code",
   "execution_count": null,
   "metadata": {},
   "outputs": [],
   "source": []
  },
  {
   "cell_type": "code",
   "execution_count": null,
   "metadata": {},
   "outputs": [],
   "source": []
  },
  {
   "cell_type": "code",
   "execution_count": null,
   "metadata": {},
   "outputs": [],
   "source": []
  },
  {
   "cell_type": "code",
   "execution_count": 25,
   "metadata": {},
   "outputs": [
    {
     "name": "stderr",
     "output_type": "stream",
     "text": [
      "/home/gravishlab/.virtualenvs/ants/lib/python3.6/site-packages/ipykernel_launcher.py:22: RuntimeWarning: invalid value encountered in less\n",
      "/home/gravishlab/.virtualenvs/ants/lib/python3.6/site-packages/ipykernel_launcher.py:22: RuntimeWarning: invalid value encountered in greater\n"
     ]
    }
   ],
   "source": [
    "# detect groups of ants\n",
    "plt.close('all')\n",
    "plt.figure(figsize=(18,6))\n",
    "for FrNum in range(193,194):\n",
    "    \n",
    "    glenna =bkg_div_mask[FrNum,:,:]>1.15\n",
    "    from scipy import ndimage\n",
    "    blobs, number_of_blobs = ndimage.label(glenna)\n",
    "    loc = ndimage.find_objects(blobs)\n",
    "\n",
    "\n",
    "    means = np.full((number_of_blobs,2),np.nan)\n",
    "    n_pts = np.full((number_of_blobs),np.nan)\n",
    "    for kk in range(number_of_blobs):\n",
    "        temp = np.where(blobs==kk+1)\n",
    "        if len(temp[0])>6 and len(temp[0])<50:\n",
    "            means[kk,:] = [np.mean(temp[1]), np.mean(temp[0])]\n",
    "            n_pts[kk] = len(temp[0])\n",
    "    x_dist = np.abs(means[:,0][:,None]- means[:,0][None,:])\n",
    "    y_dist = np.abs(means[:,1][:,None]- means[:,1][None,:])\n",
    "    total_dist = np.sqrt(np.square(x_dist)+np.square(y_dist))\n",
    "    close_blobs, counts = np.unique(np.where(np.logical_and(total_dist<30,total_dist>0.001))[0], return_counts=True)\n",
    "    blobs_to_remove = np.concatenate((close_blobs[counts>3], np.where(np.isnan(means[:,0]))[0]))\n",
    "    blobs_to_keep = np.delete(np.arange(0,number_of_blobs),blobs_to_remove)\n",
    "#     blobs_to_keep = blobs_to_keep[np.logical_not(np.isnan(means[:,0][blobs_to_keep]))]\n",
    "\n",
    "\n",
    "\n",
    "    plt.clf()\n",
    "    plt.subplot(1,2,1)\n",
    "    plt.imshow(frames_raw[FrNum,:,:])\n",
    "    plt.gca().axis('off')\n",
    "    plt.subplot(1,2,2)\n",
    "    # plt.imshow(bkg_div_mask[300,:,:]>1.15)\n",
    "    # plt.imshow(np.logical_or(bkg_div_mask[300,:,:]>1.15, bkg_div_mask[300,:,:]<0.7 ))\n",
    "    plt.imshow(blobs)\n",
    "\n",
    "    for kk in range(number_of_blobs):\n",
    "        if kk in blobs_to_remove:\n",
    "            if not np.isnan(means[kk,0]):\n",
    "                plt.text(means[kk,0], means[kk,1], '%i'%kk, Size = 6 , Color = 'w')\n",
    "        elif kk in blobs_to_keep:\n",
    "            plt.text(means[kk,0], means[kk,1], '%i'%kk, Size = 6 , Color = 'r')\n",
    "    plt.gca().axis('off')\n",
    "    plt.pause(1)\n",
    "\n",
    "\n"
   ]
  },
  {
   "cell_type": "code",
   "execution_count": 38,
   "metadata": {},
   "outputs": [
    {
     "data": {
      "text/plain": [
       "<matplotlib.image.AxesImage at 0x7f16e21a8128>"
      ]
     },
     "execution_count": 38,
     "metadata": {},
     "output_type": "execute_result"
    }
   ],
   "source": []
  },
  {
   "cell_type": "code",
   "execution_count": 298,
   "metadata": {},
   "outputs": [
    {
     "name": "stdout",
     "output_type": "stream",
     "text": [
      "                  bkg_div_mask:   2.2GiB\n",
      "                          mask:  42.2MiB\n",
      "                           img:   7.0MiB\n",
      "                          _148:   7.0MiB\n",
      "                        frame2:   2.6MiB\n",
      "                          _159: 900.1KiB\n",
      "                          _164: 197.8KiB\n",
      "                          _165: 197.8KiB\n",
      "              tunnel_n_ant_pix:  15.3KiB\n",
      "                          _i43:   5.0KiB\n"
     ]
    }
   ],
   "source": [
    "# display size of variables\n",
    "import sys\n",
    "def sizeof_fmt(num, suffix='B'):\n",
    "    ''' By Fred Cirera, after https://stackoverflow.com/a/1094933/1870254'''\n",
    "    for unit in ['','Ki','Mi','Gi','Ti','Pi','Ei','Zi']:\n",
    "        if abs(num) < 1024.0:\n",
    "            return \"%3.1f%s%s\" % (num, unit, suffix)\n",
    "        num /= 1024.0\n",
    "    return \"%.1f%s%s\" % (num, 'Yi', suffix)\n",
    "\n",
    "for name, size in sorted(((name, sys.getsizeof(value)) for name,value in locals().items()),\n",
    "                         key= lambda x: -x[1])[:10]:\n",
    "    print(\"{:>30}: {:>8}\".format(name,sizeof_fmt(size)))"
   ]
  },
  {
   "cell_type": "code",
   "execution_count": 232,
   "metadata": {},
   "outputs": [
    {
     "name": "stdout",
     "output_type": "stream",
     "text": [
      "3,5,1\n",
      "1,0,1\n",
      "0\n",
      "1,3,5\n",
      "1,1,1\n",
      "0\n",
      "3,1,5\n",
      "0,0,0\n",
      "0\n",
      "5,1,3\n",
      "0,1,0\n",
      "0\n",
      "3,1,5\n",
      "0,0,0\n",
      "0\n",
      "1,5,3\n",
      "0,1,1\n",
      "0\n",
      "3,1,5\n",
      "0,1,0\n",
      "0\n",
      "1,3,5\n",
      "1,0,0\n",
      "0\n",
      "1,5,3\n",
      "1,1,1\n",
      "0\n",
      "5,3,1\n",
      "0,0,0\n",
      "0\n"
     ]
    }
   ],
   "source": [
    "# generate substrate ordering\n",
    "import random\n",
    "\n",
    "for i in range(10):\n",
    "    gl = [1,3,5]\n",
    "    random.shuffle(gl)\n",
    "    print('%i,%i,%i'%(gl[0],gl[1],gl[2]))\n",
    "    cl=np.random.randint(0,2,size=3)\n",
    "    print('%i,%i,%i'%(cl[0],cl[1],cl[2]))\n",
    "    print('0')\n",
    "    "
   ]
  },
  {
   "cell_type": "code",
   "execution_count": null,
   "metadata": {},
   "outputs": [],
   "source": []
  },
  {
   "cell_type": "markdown",
   "metadata": {},
   "source": [
    "## Past code"
   ]
  },
  {
   "cell_type": "code",
   "execution_count": 2,
   "metadata": {},
   "outputs": [],
   "source": [
    "# # IMPORT INDOOR EXPERIMENT DATA\n",
    "# import imageio\n",
    "\n",
    "# pfolder = '/media/gravishlab/SeagateExpansionDrive/AntTunnelPreference/Indoor'\n",
    "# folder_list = glob.glob(os.path.join(pfolder, '**Cam**'))\n",
    "# folder_OI = folder_list[3]\n",
    "# file_list = glob.glob(os.path.join(folder_OI, '**.jpg'))\n",
    "# print(file_list[0])\n",
    "\n",
    "# vid_length = len(file_list)\n",
    "# im = imageio.imread(file_list[0])\n",
    "# height = im.shape[0]\n",
    "# width = im.shape[1]\n",
    "# frames_raw = np.zeros((vid_length, height, width), np.uint8)\n",
    "# rgb_convert = np.array([[[0.2989]],[[0.5870]],[[0.1140]]]).T\n",
    "# for kk in range(vid_length):\n",
    "#     im = imageio.imread(file_list[kk])\n",
    "#     frames_raw[kk,:,:] = np.sum(im*rgb_convert, axis = 2)\n"
   ]
  },
  {
   "cell_type": "code",
   "execution_count": null,
   "metadata": {},
   "outputs": [],
   "source": [
    "# detect yellow?\n",
    "# cap = cv2.VideoCapture(file)\n",
    "# cap.set(1,200)\n",
    "# ret, frame2 = cap.read()\n",
    "# glenna=frame2.copy()\n",
    "# frame2[:,:,2]=glenna[:,:,0]\n",
    "# frame2[:,:,0]=glenna[:,:,2]\n",
    "\n",
    "# clifton = np.logical_and(\n",
    "#     np.logical_and(np.abs(frame2[:,:,0]-frame2[:,:,1])<20, frame2[:,:,0]-frame2[:,:,2]>5),\n",
    "#     frame2[:,:,0]>120)\n",
    "# mask_all = np.sum(mask,axis=2).astype(bool)\n",
    "# clifton = clifton*mask_all\n",
    "\n",
    "\n",
    "# cap.release()\n",
    "\n",
    "# plt.close('all')\n",
    "# plt.figure()\n",
    "# plt.subplot(1,2,1)\n",
    "# plt.imshow(frame2)\n",
    "# plt.subplot(1,2,2)\n",
    "# plt.imshow(clifton)"
   ]
  }
 ],
 "metadata": {
  "kernelspec": {
   "display_name": "Python 3",
   "language": "python",
   "name": "python3"
  },
  "language_info": {
   "codemirror_mode": {
    "name": "ipython",
    "version": 3
   },
   "file_extension": ".py",
   "mimetype": "text/x-python",
   "name": "python",
   "nbconvert_exporter": "python",
   "pygments_lexer": "ipython3",
   "version": "3.6.5"
  }
 },
 "nbformat": 4,
 "nbformat_minor": 2
}
