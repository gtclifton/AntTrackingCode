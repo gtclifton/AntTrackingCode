{
 "cells": [
  {
   "cell_type": "markdown",
   "metadata": {},
   "source": [
    "# Script to track all the videos from ant arena experiments  \n",
    "\n",
    "In this script we build a list of all of the avi files to track. We then run the 2D tracker on each file using the tracker class. This results in a text file of tracked contours saved with the video files.   "
   ]
  },
  {
   "cell_type": "code",
   "execution_count": 1,
   "metadata": {
    "scrolled": false
   },
   "outputs": [
    {
     "name": "stdout",
     "output_type": "stream",
     "text": [
      "Using matplotlib backend: TkAgg\n"
     ]
    },
    {
     "name": "stderr",
     "output_type": "stream",
     "text": [
      "/home/gravishlab/.virtualenvs/ants/lib/python3.6/site-packages/h5py/__init__.py:36: FutureWarning: Conversion of the second argument of issubdtype from `float` to `np.floating` is deprecated. In future, it will be treated as `np.float64 == np.dtype(float).type`.\n",
      "  from ._conv import register_converters as _register_converters\n"
     ]
    }
   ],
   "source": [
    "import matlab.engine\n",
    "import numpy as np\n",
    "import matplotlib.pyplot as plt\n",
    "import os\n",
    "import json\n",
    "import sys\n",
    "\n",
    "\n",
    "# %qtconsole\n",
    "%matplotlib auto\n",
    "\n",
    "import glob\n",
    "sys.path.append('/home/gravishlab/Documents/Python/')\n",
    "sys.path.append('/home/gravishlab/Documents/Python/Tracker/')\n",
    "sys.path.append('/home/gravishlab/Documents/Python/Tracker/Tracker/')\n",
    "from Tracker.Tracker import Tracker\n",
    "\n",
    "import multiprocessing"
   ]
  },
  {
   "cell_type": "code",
   "execution_count": 2,
   "metadata": {},
   "outputs": [
    {
     "name": "stdout",
     "output_type": "stream",
     "text": [
      "10842\n",
      "Total Number of Videos:  1\n"
     ]
    }
   ],
   "source": [
    "vid_locations = '/media/gravishlab/SeagateExpansionDrive/AntTrack/'\n",
    "\n",
    "# glob is like dir in matlab, it searches for files\n",
    "# file_list = glob.glob(os.path.join(vid_locations, '*12-0000.avi'))\n",
    "#file_list = glob.glob(os.path.join(vid_locations, '4mm_clear/*12-0000.avi'))\n",
    "# file_list = glob.glob(os.path.join(vid_locations, 'AntTunnel/2mm_clear/*18-0000.avi'))\n",
    "# file_list = glob.glob(os.path.join(vid_locations, '**/*12-0000.avi'))\n",
    "file_list = glob.glob(os.path.join(vid_locations, '**/**/*0000.mp4'))\n",
    "print(len(file_list))\n",
    "file_list = sorted(file_list)[0:1] #   [::20] #[0:3000:5]                \n",
    "\n",
    "\n",
    "print('Total Number of Videos: ',len(file_list))"
   ]
  },
  {
   "cell_type": "code",
   "execution_count": 3,
   "metadata": {},
   "outputs": [],
   "source": [
    "# %qtconsole  "
   ]
  },
  {
   "cell_type": "markdown",
   "metadata": {},
   "source": [
    "## Build file list for testing"
   ]
  },
  {
   "cell_type": "code",
   "execution_count": 4,
   "metadata": {},
   "outputs": [],
   "source": [
    "\n",
    "# # this is a list of files that have or have not been processed\n",
    "# processing_manifest = os.path.join(vid_locations, 'processing_manifest.json')\n",
    "\n",
    "# if glob.glob(processing_manifest) == []:\n",
    "\n",
    "#     file_list = []\n",
    "#     for root, dirs, files in os.walk(vid_locations):\n",
    "#         for file in files:\n",
    "#             if(os.path.splitext(file)[1] == '.mp4' and # only mp4 files\n",
    "#                os.path.basename(file)[0] != '5'):      # dont track video 5\n",
    "#                 file_list.append([os.path.join(root, file), 0])\n",
    "                \n",
    "#     with open(processing_manifest, 'w') as out:\n",
    "#         json.dump(file_list, out, sort_keys=True, indent=4)\n",
    "        \n",
    "# else:\n",
    "#     with open(processing_manifest, 'r') as infile:\n",
    "#         file_list = json.load(infile)\n",
    "    \n",
    "# len(file_list)"
   ]
  },
  {
   "cell_type": "code",
   "execution_count": 5,
   "metadata": {},
   "outputs": [],
   "source": [
    "\n",
    "# define the region of interest for tracking\n",
    "# ROI = (30, 30, 550, 1174)"
   ]
  },
  {
   "cell_type": "code",
   "execution_count": 6,
   "metadata": {},
   "outputs": [],
   "source": [
    "# this function is called by the parallel tracker below. \n",
    "\n",
    "def track_or_skip(filename):\n",
    "\n",
    "    try:\n",
    "        # define tracking parameter for green vs. clear substrates\n",
    "        if 'clear' in filename.split('/')[5]:\n",
    "            thresh = 0.2\n",
    "#             print(type(thresh))\n",
    "        elif 'green' in filename.split('/')[5]:\n",
    "            thresh = 0.1\n",
    "        else:\n",
    "            thresh = 0.2\n",
    "        \n",
    "        \n",
    "        video = Tracker(filename, min_object_size=200, verbose='False') #, CLEAR -- verbose='False'\n",
    "#         video = Tracker(filename, min_object_size=200, verbose='False') # GREEN, verbose='False'\n",
    "#         video = Tracker(filename, ROI = ROI)\n",
    "#       print(video.file_exists, '---',filename)\n",
    "#        print(video.file_exists)\n",
    "\n",
    "        if video.file_exists == False:\n",
    "            #print('in ' , video.file_name)\n",
    "            \n",
    "#             video.threshold_val = 0.15 # GREEN - how diff from background (1) will identify an object\n",
    "            video.threshold_val = thresh # CLEAR - how diff from background (1) will identify an object\n",
    "            \n",
    "            video.load_video()\n",
    "            video.compute_background()          # form background image\n",
    "            video.remove_background()           # remove background\n",
    "            video.threshold()                   # threshold to segment features\n",
    "            video.find_distance()               # takes, dist tranform, finds peaks, associates to ants, finds head/gaster\n",
    "            video.morpho_closing()\n",
    "            video.find_objects()\n",
    "            video.draw_contours()\n",
    "            print('done?')\n",
    "            video.save_JSON()\n",
    "\n",
    "            print('Saved  ---',filename)\n",
    "        else:\n",
    "            print('Exists ---',filename)\n",
    "    except:\n",
    "        print('error--- ', filename)"
   ]
  },
  {
   "cell_type": "markdown",
   "metadata": {},
   "source": [
    "## Now farm out tracking to a set of multiprocessing functions"
   ]
  },
  {
   "cell_type": "code",
   "execution_count": 7,
   "metadata": {},
   "outputs": [],
   "source": [
    "# print(sorted(file_list)[0:10])"
   ]
  },
  {
   "cell_type": "code",
   "execution_count": null,
   "metadata": {},
   "outputs": [],
   "source": [
    "# this does the tracking in parallel. Alternatively this could just be a for loop calling track_or_skip on each file in filename\n",
    "\n",
    "p = multiprocessing.Pool(1)\n",
    "p.map(track_or_skip, sorted(file_list)) #[200:205]\n",
    "print('All Done!')\n",
    "\n",
    "#filenames = [file for file, done in file_list[0:2]]\n",
    "#p.map(track_or_skip, filenames)\n",
    "#print(file_list)\n"
   ]
  },
  {
   "cell_type": "markdown",
   "metadata": {},
   "source": [
    "## Check through list and re-run on files that got skipped"
   ]
  },
  {
   "cell_type": "code",
   "execution_count": 10,
   "metadata": {},
   "outputs": [],
   "source": [
    "not_done = []\n",
    "for kk, filename in enumerate([file for file in file_list]):\n",
    "#     print(kk)\n",
    "    \n",
    "    if glob.glob(os.path.join(os.path.dirname(filename), \n",
    "                              os.path.splitext(os.path.basename(filename))[0]) + '_contours.txt') == []:\n",
    "        not_done.append(filename)\n",
    "        \n",
    "        "
   ]
  },
  {
   "cell_type": "code",
   "execution_count": null,
   "metadata": {},
   "outputs": [],
   "source": []
  },
  {
   "cell_type": "code",
   "execution_count": 11,
   "metadata": {},
   "outputs": [],
   "source": [
    "## CHECK IF WORKING USING MY TRACKALLVIDEOS file\n",
    "#for kk, vname in enumerate(sorted(file_list[0:2])): #[129:130]: # total 131\n",
    "#    print(kk, ' --- ', vname)\n",
    "#    # Load in images to memory during construction\n",
    "#    print(vname)\n",
    "#    video = Tracker(vname,min_object_size=40) # ROI= (30, 30, 550, 1150) , verbose='False'\n",
    "#    print(video.file_exists)"
   ]
  },
  {
   "cell_type": "code",
   "execution_count": null,
   "metadata": {},
   "outputs": [],
   "source": [
    "#for kk, vname in enumerate(sorted(file_list)[150:153]): #[129:130]: # total 131\n",
    "#    video = Tracker(vname,min_object_size=40) # ROI= (30, 30, 550, 1150) , verbose='False'\n",
    "#    \n",
    "#    video.file_name=os.path.splitext(os.path.basename(video.videoname))[0] + '_contours.txt'\n",
    "#    video.out_file = os.path.join(video.file_path, video.file_name)\n",
    "#    \n",
    "#    print( (glob.glob(video.out_file) != []), '--', video.out_file)\n",
    "#    print(kk, ' --- ', vname, video.file_exists)\n",
    "\n"
   ]
  },
  {
   "cell_type": "code",
   "execution_count": null,
   "metadata": {},
   "outputs": [],
   "source": []
  }
 ],
 "metadata": {
  "kernelspec": {
   "display_name": "Python 3",
   "language": "python",
   "name": "python3"
  },
  "language_info": {
   "codemirror_mode": {
    "name": "ipython",
    "version": 3
   },
   "file_extension": ".py",
   "mimetype": "text/x-python",
   "name": "python",
   "nbconvert_exporter": "python",
   "pygments_lexer": "ipython3",
   "version": "3.6.5"
  }
 },
 "nbformat": 4,
 "nbformat_minor": 2
}
