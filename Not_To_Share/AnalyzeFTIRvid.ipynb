{
 "cells": [
  {
   "cell_type": "code",
   "execution_count": 1,
   "metadata": {},
   "outputs": [
    {
     "name": "stdout",
     "output_type": "stream",
     "text": [
      "Using matplotlib backend: Qt4Agg\n"
     ]
    }
   ],
   "source": [
    "import cv2\n",
    "\n",
    "import numpy as np\n",
    "\n",
    "import sys\n",
    "# import cv2 as cv\n",
    "%matplotlib qt4\n",
    "%matplotlib auto\n",
    "import matplotlib.pyplot as plt\n",
    "\n",
    "sys.path.append('/home/gravishlab/Documents/Python/')\n",
    "sys.path.append('/home/gravishlab/Documents/Python/Tracker/')\n",
    "sys.path.append('/home/gravishlab/Documents/Python/Tracker/Tracker/')\n",
    "\n",
    "from pyqtgraph.Qt import QtCore, QtGui\n",
    "# QtGui.QApplication.instance().exec_()\n",
    "\n",
    "from Tracker import Tracker"
   ]
  },
  {
   "cell_type": "code",
   "execution_count": 19,
   "metadata": {},
   "outputs": [],
   "source": [
    "%qtconsole"
   ]
  },
  {
   "cell_type": "code",
   "execution_count": null,
   "metadata": {},
   "outputs": [],
   "source": []
  },
  {
   "cell_type": "code",
   "execution_count": 3,
   "metadata": {},
   "outputs": [
    {
     "name": "stdout",
     "output_type": "stream",
     "text": [
      "done\n"
     ]
    }
   ],
   "source": [
    "vid_locations = '/media/gravishlab/AE3ABE353ABDFB03/Users/GravishLab/AntTrack/OldVideos/'\n",
    "vid = vid_locations + 'RunningAntFTIR.avi'\n",
    "video = Tracker.Tracker(vid,min_object_size=500, verbose='False')\n",
    "# cv2.VideoCapture(vid)\n",
    "print('done')"
   ]
  },
  {
   "cell_type": "code",
   "execution_count": 4,
   "metadata": {},
   "outputs": [
    {
     "name": "stdout",
     "output_type": "stream",
     "text": [
      "Loading\n",
      "0\n",
      "100\n",
      "200\n",
      "300\n",
      "400\n",
      "500\n",
      "all_loaded!\n",
      "BKG\n",
      "NORM\n",
      "Threshold\n",
      "Distance Transform\n",
      "Morphological closing\n",
      "Tracking\n",
      "done\n"
     ]
    }
   ],
   "source": [
    "# video.bkg_sep = 20\n",
    "video.threshold_val = 0.2 # CLEAR how diff from background (1) will identify an object\n",
    "# video.threshold_val = 0.15 #  GREEN how diff from background (1) will identify an object\n",
    "\n",
    "video.load_video()\n",
    "video.compute_background()          # form background image\n",
    "video.remove_background()           # remove background\n",
    "video.threshold()                   # threshold to segment features\n",
    "video.find_distance()               # remove dist before closing on clear bridge\n",
    "video.morpho_closing()\n",
    "video.find_objects()\n",
    "video.draw_contours()\n",
    "# video.find_distance()               # takes, dist tranform, finds peaks, associates to ants, finds head/gaster\n",
    "\n",
    "\n",
    "# video.find_skeleton()\n",
    "# video.draw_skeletons()\n",
    "# video.save_JSON() ## CURRENTLY WON'T SAVE SKEL STUFF\n",
    "# print(video.contours)\n",
    "print('done')"
   ]
  },
  {
   "cell_type": "code",
   "execution_count": 129,
   "metadata": {},
   "outputs": [
    {
     "data": {
      "text/plain": [
       "[<matplotlib.lines.Line2D at 0x7ff240e7ab70>]"
      ]
     },
     "execution_count": 129,
     "metadata": {},
     "output_type": "execute_result"
    }
   ],
   "source": [
    "# TEST ANALYSIS VARIABLES FOR RANGE OF FRAMES\n",
    "thresh = 0.2\n",
    "minsize = 500\n",
    "maxsize = 1800\n",
    "plt.close('all')\n",
    "\n",
    "# Frames=list(range(400,421))\n",
    "Frames=list(range(420,421))#[0::5]\n",
    "plt.figure(figsize=(12,5))\n",
    "plt.ion()\n",
    "\n",
    "\n",
    "pixOI = [116+270,77+340]\n",
    "pixOI2 = [116+268,77+340]\n",
    "\n",
    "for Frame in Frames:\n",
    "    n_splt=2\n",
    "#     ROI = [300:500,300:500]\n",
    "\n",
    "    \n",
    "    \n",
    "    raw_gray = np.repeat(video.frames[Frame].copy()[:,:,np.newaxis],3, axis=2)\n",
    "    ax1=plt.subplot(1,n_splt,1)\n",
    "    plt.imshow(raw_gray)\n",
    "    plt.ylim((270,470))\n",
    "    plt.xlim((340,540))\n",
    "    ax1.set_title('Raw video')\n",
    "    plt.axis('off')\n",
    "    plt.scatter(pixOI[1],pixOI[0],s =2, c = \"r\", linewidths=1)\n",
    "    plt.scatter(pixOI2[1],pixOI2[0],s =2, c = \"g\", linewidths=1)\n",
    "    plt.gca().invert_yaxis()\n",
    "    \n",
    "    bkgd = video.frames_normed[Frame].copy()[270:470,340:540]\n",
    "#     bkgd_norm = ((bkgd-np.min(bkgd))*\n",
    "#                  (255/(np.max(bkgd)-np.min(bkgd)) ))\n",
    "#     bkgd_norm2 = np.zeros(bkgd.shape)\n",
    "#     bkgd_norm2 = cv2.normalize(bkgd, bkgd_norm2, 0, 255, cv2.NORM_MINMAX)\n",
    "    bkgd_norm = (128/(np.max(bkgd-1)))*(bkgd-1) + 128\n",
    "    bkgd_gray = np.repeat(bkgd_norm[:,:,np.newaxis],3, axis=2)\n",
    "    ax2=plt.subplot(1,n_splt,2)\n",
    "    ax2.clear()\n",
    "    plt.imshow(bkgd)\n",
    "#     plt.imshow(bkgd_norm)\n",
    "    ax2.set_title('Background Div')\n",
    "    plt.axis('off')\n",
    "    plt.text(20,40,Frame)\n",
    "    \n",
    "#     # take threshold\n",
    "#     video.threshold_val = thresh\n",
    "#     temp = (video.frames_normed[Frame] < 1 - video.threshold_val) | (video.frames_normed[Frame] > 1 + video.threshold_val)\n",
    "#     ax3=plt.subplot(n_splt,1,3)\n",
    "#     plt.imshow(temp)\n",
    "#     ax3.set_title('Thresholded')\n",
    "#     plt.axis('off')\n",
    "    \n",
    "#     # remove short distances\n",
    "#     # cv.DISL_L1 = 4-connected distance (diagonal is 2), cv.DIST_L2 = 8-connected\n",
    "#     ant_dist = cv2.distanceTransform(np.array(temp, dtype=np.uint8), cv2.DIST_L2, 3)\n",
    "#     # remove any points with small distance\n",
    "#     rm_edges = ant_dist.copy()\n",
    "#     rm_edges[ant_dist < 2] = 0\n",
    "#     ax4=plt.subplot(n_splt,1,4)\n",
    "#     plt.imshow(rm_edges)\n",
    "#     ax4.set_title('Remove dist < 2')\n",
    "#     plt.axis('off')\n",
    "    \n",
    "#     # close image\n",
    "#     kernel = cv2.getStructuringElement( cv2.MORPH_RECT, (5,5))\n",
    "#     temp2 = cv2.morphologyEx(np.uint8(rm_edges>0), cv2.MORPH_CLOSE, kernel, iterations = 7) \n",
    "# #     ax2=plt.subplot(n_splt,1,5)\n",
    "# #     plt.imshow(temp2)\n",
    "    \n",
    "    \n",
    "#     plt.sca(ax1)\n",
    "#     plt.scatter(x,y,s =2, c = \"r\", linewidths=1)\n",
    "    plt.pause(1)\n",
    "    \n",
    "    \n",
    "pixOI_val=[fr[pixOI[0],pixOI[1]] for fr in video.frames[350:500]]\n",
    "pixOI2_val=[fr[pixOI2[0],pixOI2[1]] for fr in video.frames[350:500]]\n",
    "plt.figure()\n",
    "plt.plot(pixOI_val,'-r')\n",
    "plt.plot(pixOI2_val,'-g')"
   ]
  },
  {
   "cell_type": "code",
   "execution_count": null,
   "metadata": {},
   "outputs": [],
   "source": []
  }
 ],
 "metadata": {
  "kernelspec": {
   "display_name": "Python 3",
   "language": "python",
   "name": "python3"
  },
  "language_info": {
   "codemirror_mode": {
    "name": "ipython",
    "version": 3
   },
   "file_extension": ".py",
   "mimetype": "text/x-python",
   "name": "python",
   "nbconvert_exporter": "python",
   "pygments_lexer": "ipython3",
   "version": "3.5.2"
  }
 },
 "nbformat": 4,
 "nbformat_minor": 2
}
