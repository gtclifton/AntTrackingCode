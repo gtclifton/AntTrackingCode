{
 "cells": [
  {
   "cell_type": "code",
   "execution_count": 2,
   "metadata": {},
   "outputs": [
    {
     "name": "stdout",
     "output_type": "stream",
     "text": [
      "Interest Calculator\n",
      "Principal amount?10000\n",
      "Rate of Interest?.01\n",
      "Duration (no. of years) ?10\n",
      "\n",
      "Interest = 10.00\n"
     ]
    }
   ],
   "source": [
    "print('Interest Calculator')\n",
    "amount = float(input('Principal amount?'))\n",
    "roi = float (input('Rate of Interest?'))\n",
    "yrs = int(input('Duration (no. of years) ?'))\n",
    "total = (amount *pow(1+(roi/100),yrs))\n",
    "interest=total-amount\n",
    "print('\\nInterest = %0.2f' %interest)"
   ]
  },
  {
   "cell_type": "code",
   "execution_count": null,
   "metadata": {},
   "outputs": [],
   "source": []
  }
 ],
 "metadata": {
  "kernelspec": {
   "display_name": "Python 3",
   "language": "python",
   "name": "python3"
  },
  "language_info": {
   "codemirror_mode": {
    "name": "ipython",
    "version": 3
   },
   "file_extension": ".py",
   "mimetype": "text/x-python",
   "name": "python",
   "nbconvert_exporter": "python",
   "pygments_lexer": "ipython3",
   "version": "3.5.2"
  }
 },
 "nbformat": 4,
 "nbformat_minor": 2
}
