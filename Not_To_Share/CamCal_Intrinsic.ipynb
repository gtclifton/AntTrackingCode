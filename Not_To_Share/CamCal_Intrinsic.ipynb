{
 "cells": [
  {
   "cell_type": "code",
   "execution_count": 8,
   "metadata": {},
   "outputs": [
    {
     "name": "stdout",
     "output_type": "stream",
     "text": [
      "Using matplotlib backend: Qt4Agg\n",
      "Found images:\n",
      "['/media/gravishlab/AE3ABE353ABDFB03/Users/GravishLab/AntTrack/videos/2018_01_12/Intrinsic/16276718/scirc_18.png', '/media/gravishlab/AE3ABE353ABDFB03/Users/GravishLab/AntTrack/videos/2018_01_12/Intrinsic/16276718/scirc_01.png', '/media/gravishlab/AE3ABE353ABDFB03/Users/GravishLab/AntTrack/videos/2018_01_12/Intrinsic/16276718/scirc_02.png', '/media/gravishlab/AE3ABE353ABDFB03/Users/GravishLab/AntTrack/videos/2018_01_12/Intrinsic/16276718/scirc_03.png', '/media/gravishlab/AE3ABE353ABDFB03/Users/GravishLab/AntTrack/videos/2018_01_12/Intrinsic/16276718/scirc_04.png', '/media/gravishlab/AE3ABE353ABDFB03/Users/GravishLab/AntTrack/videos/2018_01_12/Intrinsic/16276718/scirc_05.png', '/media/gravishlab/AE3ABE353ABDFB03/Users/GravishLab/AntTrack/videos/2018_01_12/Intrinsic/16276718/scirc_06.png', '/media/gravishlab/AE3ABE353ABDFB03/Users/GravishLab/AntTrack/videos/2018_01_12/Intrinsic/16276718/scirc_07.png', '/media/gravishlab/AE3ABE353ABDFB03/Users/GravishLab/AntTrack/videos/2018_01_12/Intrinsic/16276718/scirc_08.png', '/media/gravishlab/AE3ABE353ABDFB03/Users/GravishLab/AntTrack/videos/2018_01_12/Intrinsic/16276718/scirc_09.png', '/media/gravishlab/AE3ABE353ABDFB03/Users/GravishLab/AntTrack/videos/2018_01_12/Intrinsic/16276718/scirc_10.png', '/media/gravishlab/AE3ABE353ABDFB03/Users/GravishLab/AntTrack/videos/2018_01_12/Intrinsic/16276718/scirc_11.png', '/media/gravishlab/AE3ABE353ABDFB03/Users/GravishLab/AntTrack/videos/2018_01_12/Intrinsic/16276718/scirc_12.png', '/media/gravishlab/AE3ABE353ABDFB03/Users/GravishLab/AntTrack/videos/2018_01_12/Intrinsic/16276718/scirc_13.png', '/media/gravishlab/AE3ABE353ABDFB03/Users/GravishLab/AntTrack/videos/2018_01_12/Intrinsic/16276718/scirc_14.png', '/media/gravishlab/AE3ABE353ABDFB03/Users/GravishLab/AntTrack/videos/2018_01_12/Intrinsic/16276718/scirc_15.png', '/media/gravishlab/AE3ABE353ABDFB03/Users/GravishLab/AntTrack/videos/2018_01_12/Intrinsic/16276718/scirc_16.png', '/media/gravishlab/AE3ABE353ABDFB03/Users/GravishLab/AntTrack/videos/2018_01_12/Intrinsic/16276718/scirc_17.png', '/media/gravishlab/AE3ABE353ABDFB03/Users/GravishLab/AntTrack/videos/2018_01_12/Intrinsic/16276718/scirc_19.png', '/media/gravishlab/AE3ABE353ABDFB03/Users/GravishLab/AntTrack/videos/2018_01_12/Intrinsic/16276718/scirc_20.png', '/media/gravishlab/AE3ABE353ABDFB03/Users/GravishLab/AntTrack/videos/2018_01_12/Intrinsic/16276718/scirc_21.png', '/media/gravishlab/AE3ABE353ABDFB03/Users/GravishLab/AntTrack/videos/2018_01_12/Intrinsic/16276718/scirc_22.png', '/media/gravishlab/AE3ABE353ABDFB03/Users/GravishLab/AntTrack/videos/2018_01_12/Intrinsic/16276718/scirc_23.png', '/media/gravishlab/AE3ABE353ABDFB03/Users/GravishLab/AntTrack/videos/2018_01_12/Intrinsic/16276718/scirc_24.png', '/media/gravishlab/AE3ABE353ABDFB03/Users/GravishLab/AntTrack/videos/2018_01_12/Intrinsic/16276718/scirc_25.png', '/media/gravishlab/AE3ABE353ABDFB03/Users/GravishLab/AntTrack/videos/2018_01_12/Intrinsic/16276718/scirc_26.png', '/media/gravishlab/AE3ABE353ABDFB03/Users/GravishLab/AntTrack/videos/2018_01_12/Intrinsic/16276718/scirc_27.png', '/media/gravishlab/AE3ABE353ABDFB03/Users/GravishLab/AntTrack/videos/2018_01_12/Intrinsic/16276718/scirc_28.png', '/media/gravishlab/AE3ABE353ABDFB03/Users/GravishLab/AntTrack/videos/2018_01_12/Intrinsic/16276718/scirc_29.png', '/media/gravishlab/AE3ABE353ABDFB03/Users/GravishLab/AntTrack/videos/2018_01_12/Intrinsic/16276718/scirc_30.png', '/media/gravishlab/AE3ABE353ABDFB03/Users/GravishLab/AntTrack/videos/2018_01_12/Intrinsic/16276718/scirc_31.png', '/media/gravishlab/AE3ABE353ABDFB03/Users/GravishLab/AntTrack/videos/2018_01_12/Intrinsic/16276718/scirc_32.png', '/media/gravishlab/AE3ABE353ABDFB03/Users/GravishLab/AntTrack/videos/2018_01_12/Intrinsic/16276718/scirc_33.png', '/media/gravishlab/AE3ABE353ABDFB03/Users/GravishLab/AntTrack/videos/2018_01_12/Intrinsic/16276718/scirc_34.png', '/media/gravishlab/AE3ABE353ABDFB03/Users/GravishLab/AntTrack/videos/2018_01_12/Intrinsic/16276718/scirc_35.png', '/media/gravishlab/AE3ABE353ABDFB03/Users/GravishLab/AntTrack/videos/2018_01_12/Intrinsic/16276718/scirc_36.png', '/media/gravishlab/AE3ABE353ABDFB03/Users/GravishLab/AntTrack/videos/2018_01_12/Intrinsic/16276718/scirc_37.png', '/media/gravishlab/AE3ABE353ABDFB03/Users/GravishLab/AntTrack/videos/2018_01_12/Intrinsic/16276718/scirc_38.png', '/media/gravishlab/AE3ABE353ABDFB03/Users/GravishLab/AntTrack/videos/2018_01_12/Intrinsic/16276718/scirc_39.png', '/media/gravishlab/AE3ABE353ABDFB03/Users/GravishLab/AntTrack/videos/2018_01_12/Intrinsic/16276718/scirc_40.png', '/media/gravishlab/AE3ABE353ABDFB03/Users/GravishLab/AntTrack/videos/2018_01_12/Intrinsic/16276718/scirc_41.png', '/media/gravishlab/AE3ABE353ABDFB03/Users/GravishLab/AntTrack/videos/2018_01_12/Intrinsic/16276718/scirc_42.png', '/media/gravishlab/AE3ABE353ABDFB03/Users/GravishLab/AntTrack/videos/2018_01_12/Intrinsic/16276718/scirc_43.png', '/media/gravishlab/AE3ABE353ABDFB03/Users/GravishLab/AntTrack/videos/2018_01_12/Intrinsic/16276718/scirc_44.png', '/media/gravishlab/AE3ABE353ABDFB03/Users/GravishLab/AntTrack/videos/2018_01_12/Intrinsic/16276718/scirc_45.png', '/media/gravishlab/AE3ABE353ABDFB03/Users/GravishLab/AntTrack/videos/2018_01_12/Intrinsic/16276718/scirc_46.png', '/media/gravishlab/AE3ABE353ABDFB03/Users/GravishLab/AntTrack/videos/2018_01_12/Intrinsic/16276718/scirc_47.png', '/media/gravishlab/AE3ABE353ABDFB03/Users/GravishLab/AntTrack/videos/2018_01_12/Intrinsic/16276718/scirc_48.png', '/media/gravishlab/AE3ABE353ABDFB03/Users/GravishLab/AntTrack/videos/2018_01_12/Intrinsic/16276718/scirc_49.png', '/media/gravishlab/AE3ABE353ABDFB03/Users/GravishLab/AntTrack/videos/2018_01_12/Intrinsic/16276718/scirc_50.png']\n"
     ]
    }
   ],
   "source": [
    "import numpy as np\n",
    "%matplotlib qt4\n",
    "%matplotlib auto\n",
    "import matplotlib.pyplot as plt\n",
    "import cv2\n",
    "import glob\n",
    "\n",
    "hei = 10\n",
    "wid = 10\n",
    "\n",
    "\n",
    "# termination criteria\n",
    "criteria = (cv2.TERM_CRITERIA_EPS + cv2.TERM_CRITERIA_MAX_ITER, 30, 0.001)\n",
    "\n",
    "# prepare object points, like (0,0,0), (1,0,0), (2,0,0) ....,(6,5,0)\n",
    "objp = np.zeros((wid*hei,3), np.float32)\n",
    "objp[:,:2] = np.mgrid[0:hei,0:wid].T.reshape(-1,2)\n",
    "\n",
    "# Arrays to store object points and image points from all the images.\n",
    "objpoints = [] # 3d point in real world space\n",
    "imgpoints = [] # 2d points in image plane.\n",
    "\n",
    "# checkerboard\n",
    "# images = glob.glob('/media/gravishlab/AE3ABE353ABDFB03/Users/GravishLab/AntTrack/videos/2017_11_17/Intrinsic/16276712/*.png')\n",
    "\n",
    "# acirc 3x7\n",
    "# images = glob.glob('/media/gravishlab/AE3ABE353ABDFB03/Users/GravishLab/AntTrack/videos/2018_01_10/Intrinsic/16276712/*.png')\n",
    "\n",
    "# scirc 10x10\n",
    "images = glob.glob('/media/gravishlab/AE3ABE353ABDFB03/Users/GravishLab/AntTrack/videos/2018_01_12/Intrinsic/16276718/*.png')\n",
    "\n",
    "\n",
    "\n",
    "print('Found images:')\n",
    "print(images)\n"
   ]
  },
  {
   "cell_type": "code",
   "execution_count": 9,
   "metadata": {},
   "outputs": [
    {
     "name": "stdout",
     "output_type": "stream",
     "text": [
      "/media/gravishlab/AE3ABE353ABDFB03/Users/GravishLab/AntTrack/videos/2018_01_12/Intrinsic/16276718/scirc_01.png\n",
      "/media/gravishlab/AE3ABE353ABDFB03/Users/GravishLab/AntTrack/videos/2018_01_12/Intrinsic/16276718/scirc_10.png\n",
      "/media/gravishlab/AE3ABE353ABDFB03/Users/GravishLab/AntTrack/videos/2018_01_12/Intrinsic/16276718/scirc_32.png\n"
     ]
    }
   ],
   "source": [
    "plt.figure()\n",
    "plt.ion()\n",
    "\n",
    "for fname in images:\n",
    "#     print(fname)\n",
    "    img = cv2.imread(fname)\n",
    "    gray = cv2.cvtColor(img, cv2.COLOR_BGR2GRAY)\n",
    "\n",
    "\n",
    "#     # USING CHECKERBOARD\n",
    "#     # Find the chess board corners ret, corners = cv2.findChessboardCorners(gray, (7,6),None)\n",
    "#     ret, corners = cv2.findChessboardCorners(img, (6,5),None)\n",
    "    \n",
    "#     # If found, add object points, image points (after refining them)\n",
    "#     if ret == True:\n",
    "#         objpoints.append(objp)\n",
    "\n",
    "# #         cv2.cornerSubPix(gray,corners,(11,11),(-1,-1),criteria)\n",
    "#         imgpoints.append(corners)\n",
    "\n",
    "#         # Draw and display the corners\n",
    "#         imgC = cv2.drawChessboardCorners(img, (6,5), corners,ret)\n",
    "#         plt.imshow(imgC)\n",
    "#         cv2.waitKey(0)\n",
    "#     else:\n",
    "#         plt.imshow(img) \n",
    "#     plt.pause(0.6)\n",
    "        \n",
    "    \n",
    "#     # USING CIRCLES\n",
    "#     wid = 7\n",
    "#     hei = 3\n",
    "\n",
    "#     # set blob detection parameters\n",
    "#     params = cv2.SimpleBlobDetector_Params()\n",
    "#     params.maxArea = 100000\n",
    "#     detector = cv2.SimpleBlobDetector_create(params)\n",
    "\n",
    "#     patternfound, centers= cv2.findCirclesGrid(gray, (hei, wid), None, flags = cv2.CALIB_CB_ASYMMETRIC_GRID, blobDetector = detector);\n",
    "\n",
    "#     if patternfound == True:\n",
    "#         objpoints.append(objp)\n",
    "        \n",
    "#         # refining the center finding actually makes things much worse\n",
    "# #         centers2 = cv2.cornerSubPix(gray,centers,(11,11),(-1,-1),criteria)\n",
    "# #         print(centers2.shape, ' vs. ', centers.shape)\n",
    "#         imgpoints.append(centers)\n",
    "        \n",
    "#         # plot image with found corners\n",
    "#         imgC = cv2.drawChessboardCorners(img, (3,7), centers, patternfound)\n",
    "#         plt.imshow(imgC)\n",
    "#     else:\n",
    "#         plt.imshow(img)\n",
    "#         print(fname)\n",
    "#     plt.pause(0.6)\n",
    "    \n",
    "    \n",
    "    # USING INVERTED CIRCLES\n",
    "    invt = (255-gray)\n",
    "    hei = 10\n",
    "    wid = 10\n",
    "    \n",
    "    # set blob detection parameters\n",
    "    params = cv2.SimpleBlobDetector_Params()\n",
    "    params.maxArea = 100000\n",
    "    detector = cv2.SimpleBlobDetector_create(params)\n",
    "\n",
    "    patternfound, centers= cv2.findCirclesGrid(invt, (hei, wid), None, flags = cv2.CALIB_CB_SYMMETRIC_GRID, blobDetector = detector);\n",
    "\n",
    "    if patternfound == True:\n",
    "        objpoints.append(objp)\n",
    "        \n",
    "        # refining the center finding actually makes things much worse\n",
    "#         centers2 = cv2.cornerSubPix(gray,centers,(11,11),(-1,-1),criteria)\n",
    "#         print(centers2.shape, ' vs. ', centers.shape)\n",
    "        imgpoints.append(centers)\n",
    "        \n",
    "        # plot image with found corners\n",
    "        imgC = cv2.drawChessboardCorners(img, (hei,wid), centers, patternfound)\n",
    "        plt.imshow(imgC)\n",
    "    else:\n",
    "        plt.imshow(img)\n",
    "        print(fname)\n",
    "    plt.pause(0.6)\n",
    "    \n",
    "    \n",
    " \n",
    "plt.close('all')"
   ]
  },
  {
   "cell_type": "code",
   "execution_count": 10,
   "metadata": {},
   "outputs": [
    {
     "name": "stdout",
     "output_type": "stream",
     "text": [
      "47\n",
      "47\n",
      "found undistortion values\n"
     ]
    }
   ],
   "source": [
    "print(len(objpoints))\n",
    "print(len(imgpoints))\n",
    "\n",
    "# find distortion matrix\n",
    "# ret, mtx, dist, rvecs, tvecs = cv2.calibrateCamera(objpoints, imgpoints, gray.shape[::-1], None, None , \n",
    "#                                                    flags = cv2.CALIB_USE_INTRINSIC_GUESS)\n",
    "\n",
    "\n",
    "ret, mtx, dist, rvecs, tvecs = cv2.calibrateCamera(objpoints, imgpoints, gray.shape[::-1], None, None ,\n",
    "                                                  flags = cv2.CALIB_FIX_PRINCIPAL_POINT)\n",
    "print('found undistortion values')\n",
    "\n",
    "\n",
    "# CALIB_RATIONAL_MODEL\n",
    "# CALIB_ZERO_TANGENT_DIST\n",
    "# cv2.CALIB_FIX_PRINCIPAL_POINT\n"
   ]
  },
  {
   "cell_type": "code",
   "execution_count": 11,
   "metadata": {},
   "outputs": [
    {
     "name": "stdout",
     "output_type": "stream",
     "text": [
      "total error:  0.025584271422088738\n"
     ]
    }
   ],
   "source": [
    "# reprojection errors\n",
    "mean_error = 0\n",
    "for i in range(0,len(objpoints)):\n",
    "    imgpoints2, _ = cv2.projectPoints(objpoints[i], rvecs[i], tvecs[i], mtx, dist)\n",
    "    error = cv2.norm(imgpoints[i], imgpoints2, cv2.NORM_L2)/len(imgpoints2)\n",
    "    mean_error += error\n",
    "    \n",
    "print('total error: ', mean_error/len(objpoints))"
   ]
  },
  {
   "cell_type": "code",
   "execution_count": 13,
   "metadata": {},
   "outputs": [
    {
     "name": "stderr",
     "output_type": "stream",
     "text": [
      "/home/gravishlab/.virtualenvs/ants/lib/python3.5/site-packages/matplotlib/cbook/deprecation.py:106: MatplotlibDeprecationWarning: Adding an axes using the same arguments as a previous axes currently reuses the earlier instance.  In a future version, a new instance will always be created and returned.  Meanwhile, this warning can be suppressed, and the future behavior ensured, by passing a unique label to each axes instance.\n",
      "  warnings.warn(message, mplDeprecation, stacklevel=1)\n"
     ]
    }
   ],
   "source": [
    "plt.figure()\n",
    "plt.ion()\n",
    "\n",
    "# undistort an image\n",
    "for fname in images[0:3]:\n",
    "    img = cv2.imread(fname)\n",
    "    h, w = img.shape[:2]\n",
    "    newcameramtx, roi = cv2.getOptimalNewCameraMatrix(mtx,dist,(w,h),1,(w,h))\n",
    "    \n",
    "#     # option 1 - using cv2.undistort\n",
    "#     dst = cv2.undistort(img, mtx, dist, None, newcameramtx)\n",
    "    \n",
    "    # option 2 - repmatting\n",
    "    mapx,mapy = cv2.initUndistortRectifyMap(mtx,dist,None,newcameramtx,(w,h),5)\n",
    "    dst = cv2.remap(img,mapx,mapy,cv2.INTER_LINEAR)\n",
    "    \n",
    "    # crop\n",
    "    x,y,w,h = roi\n",
    "#     dst = dst[y:y+h, x:x+w]\n",
    "    \n",
    "    \n",
    "    # plot things\n",
    "    plt.subplot(1,2,1)\n",
    "    plt.imshow(img)\n",
    "    plt.subplot(1,2,2)\n",
    "    plt.imshow(dst)\n",
    "    plt.pause(1)\n",
    "    \n",
    "    \n",
    "    \n"
   ]
  },
  {
   "cell_type": "code",
   "execution_count": 16,
   "metadata": {},
   "outputs": [
    {
     "name": "stderr",
     "output_type": "stream",
     "text": [
      "/home/gravishlab/.virtualenvs/ants/lib/python3.5/site-packages/matplotlib/cbook/deprecation.py:106: MatplotlibDeprecationWarning: Adding an axes using the same arguments as a previous axes currently reuses the earlier instance.  In a future version, a new instance will always be created and returned.  Meanwhile, this warning can be suppressed, and the future behavior ensured, by passing a unique label to each axes instance.\n",
      "  warnings.warn(message, mplDeprecation, stacklevel=1)\n"
     ]
    }
   ],
   "source": [
    "# check undistortion on test image\n",
    "testim = '/media/gravishlab/AE3ABE353ABDFB03/Users/GravishLab/AntTrack/videos/2018_01_11/Intrinsic/16276712/sym_circ_06.png'\n",
    "\n",
    "img = cv2.imread(testim)\n",
    "h, w = img.shape[:2]\n",
    "newcameramtx, roi = cv2.getOptimalNewCameraMatrix(mtx,dist,(w,h),1,(w,h))\n",
    "\n",
    "#     # option 1 - using cv2.undistort\n",
    "#     dst = cv2.undistort(img, mtx, dist, None, newcameramtx)\n",
    "\n",
    "# option 2 - repmatting\n",
    "mapx,mapy = cv2.initUndistortRectifyMap(mtx,dist,None,newcameramtx,(w,h),5)\n",
    "dst = cv2.remap(img,mapx,mapy,cv2.INTER_LINEAR)\n",
    "\n",
    "# crop\n",
    "x,y,w,h = roi\n",
    "#     dst = dst[y:y+h, x:x+w]\n",
    "\n",
    "\n",
    "# plot things\n",
    "plt.subplot(1,2,1)\n",
    "plt.imshow(img)\n",
    "plt.subplot(1,2,2)\n",
    "plt.imshow(dst)\n",
    "plt.pause(1)\n"
   ]
  },
  {
   "cell_type": "code",
   "execution_count": null,
   "metadata": {},
   "outputs": [],
   "source": []
  },
  {
   "cell_type": "code",
   "execution_count": 6,
   "metadata": {},
   "outputs": [],
   "source": [
    "%qtconsole"
   ]
  },
  {
   "cell_type": "code",
   "execution_count": null,
   "metadata": {},
   "outputs": [],
   "source": []
  }
 ],
 "metadata": {
  "kernelspec": {
   "display_name": "Python 3",
   "language": "python",
   "name": "python3"
  },
  "language_info": {
   "codemirror_mode": {
    "name": "ipython",
    "version": 3
   },
   "file_extension": ".py",
   "mimetype": "text/x-python",
   "name": "python",
   "nbconvert_exporter": "python",
   "pygments_lexer": "ipython3",
   "version": "3.5.2"
  }
 },
 "nbformat": 4,
 "nbformat_minor": 2
}
