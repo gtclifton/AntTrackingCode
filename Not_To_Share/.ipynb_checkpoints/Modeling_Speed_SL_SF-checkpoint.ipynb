{
 "cells": [
  {
   "cell_type": "code",
   "execution_count": null,
   "metadata": {},
   "outputs": [],
   "source": [
    "import numpy as np\n",
    "\n",
    "from scipy import stats, signal\n",
    "from sklearn import linear_model\n",
    "import random\n",
    "\n",
    "\n",
    "# %qtconsole\n",
    "%matplotlib qt5\n",
    "%matplotlib auto\n",
    "import matplotlib.pyplot as plt\n"
   ]
  },
  {
   "cell_type": "markdown",
   "metadata": {},
   "source": [
    "## Simple models of speed vs. SF vs SL"
   ]
  },
  {
   "cell_type": "code",
   "execution_count": 1502,
   "metadata": {},
   "outputs": [
    {
     "data": {
      "text/plain": [
       "Text(0.5,1,'speed = 10 mm/s, freq = 5 Hz')"
      ]
     },
     "execution_count": 1502,
     "metadata": {},
     "output_type": "execute_result"
    }
   ],
   "source": [
    "# null model of steady walking monopod\n",
    "\n",
    "# CONSTANT VELOCITY, CONSTANT FREQUENCY\n",
    "\n",
    "n_strides = 100 # how many strides want to model?\n",
    "\n",
    "v = 10 # mm/s\n",
    "freq = 5 # Hz\n",
    "dur = 1/freq # in seconds\n",
    "\n",
    "placement_error_factor = 0.6\n",
    "placement_error = np.random.sample(size=n_strides)*placement_error_factor-placement_error_factor/2\n",
    "\n",
    "TD_times = np.arange(0,n_strides)*dur\n",
    "body_positions = np.arange(0,n_strides)*dur*v\n",
    "leg_positions = body_positions+placement_error\n",
    "\n",
    "stride_lens = np.diff(leg_positions)\n",
    "stride_speeds = np.diff(body_positions)/np.diff(TD_times)\n",
    "\n",
    "plt.close('all')\n",
    "plt.figure()\n",
    "plt.plot(stride_lens, stride_speeds, '.k', label = 'actual')\n",
    "plt.plot(stride_lens, stride_lens*freq, '.b', label = 'SL*SF')\n",
    "plt.ylim([0,15])\n",
    "plt.xlabel('stride length (mm)')\n",
    "plt.ylabel('stride speed (mm/s)')\n",
    "plt.legend()\n",
    "plt.title('speed = %i mm/s, freq = %i Hz'%(v, freq))\n",
    "\n",
    "# for nn in np.arange(0,n_strides):\n",
    "#     print('TD %i: time = %0.1f s, body position = %0.2f, leg position = %0.2f'%(nn, nn*dur, nn*dur*v, nn*dur*v+placement_error[nn]))"
   ]
  },
  {
   "cell_type": "code",
   "execution_count": 1505,
   "metadata": {},
   "outputs": [
    {
     "data": {
      "text/plain": [
       "Text(0.5,1,'speed = 10 mm/s, length = 2 mm')"
      ]
     },
     "execution_count": 1505,
     "metadata": {},
     "output_type": "execute_result"
    }
   ],
   "source": [
    "n_strides = 100 # how many strides want to model?\n",
    "\n",
    "# CONSTANT VELOCITY, CONSTANT LENGTH\n",
    "\n",
    "v = 10 # mm/s\n",
    "SL = 2 # mm\n",
    "\n",
    "\n",
    "placement_error_factor = 0.6\n",
    "placement_error = np.random.sample(size=n_strides)*placement_error_factor-placement_error_factor/2\n",
    "\n",
    "leg_positions = np.arange(0,n_strides)*SL\n",
    "body_positions = leg_positions - placement_error\n",
    "TD_times = body_positions/v\n",
    "stride_lengths = np.diff(leg_positions)\n",
    "dur = np.diff(TD_times)\n",
    "stride_freqs = 1/dur\n",
    "stride_speeds = np.diff(body_positions)/dur\n",
    "\n",
    "# print(dur, leg_positions)\n",
    "\n",
    "plt.close('all')\n",
    "plt.figure()\n",
    "plt.plot(stride_freqs, stride_speeds, '.k', label = 'actual')\n",
    "plt.plot(stride_freqs, stride_lengths/dur, '.b', label = 'SL*SF')\n",
    "plt.xlabel('stride freq (Hz)')\n",
    "plt.ylabel('stride speed (mm/s)')\n",
    "plt.legend()\n",
    "plt.title('speed = %i mm/s, length = %i mm'%(v, SL))"
   ]
  },
  {
   "cell_type": "code",
   "execution_count": 1537,
   "metadata": {},
   "outputs": [
    {
     "data": {
      "text/plain": [
       "Text(0.5,1,'speed = 10 mm/s +/- 10, freq = 5 Hz')"
      ]
     },
     "execution_count": 1537,
     "metadata": {},
     "output_type": "execute_result"
    }
   ],
   "source": [
    "# CHANGING VELOCITY, CONSTANT FREQUENCY\n",
    "\n",
    "n_strides = 1000 # how many strides want to model?\n",
    "\n",
    "v = 10 # mm/s\n",
    "freq = 5 # Hz\n",
    "dur = 1/freq # in seconds\n",
    "\n",
    "placement_error_factor = 0.6\n",
    "placement_error = np.random.sample(size=n_strides)*placement_error_factor-placement_error_factor/2\n",
    "\n",
    "v_error_factor = 20 \n",
    "v_error = np.random.sample(size=n_strides)*v_error_factor-v_error_factor/2\n",
    "vs = v+v_error\n",
    "\n",
    "TD_times = np.arange(0,n_strides)*dur\n",
    "body_positions = np.cumsum(vs*dur)\n",
    "leg_positions = body_positions+placement_error\n",
    "\n",
    "stride_lens = np.diff(leg_positions)\n",
    "stride_speeds = np.diff(body_positions)/np.diff(TD_times)\n",
    "\n",
    "plt.close('all')\n",
    "plt.figure()\n",
    "plt.plot(stride_lens, vs[1:], '.k', label = 'actual')\n",
    "# plt.plot(stride_lens, stride_speeds, '+k', label = 'actual')\n",
    "plt.plot(stride_lens, stride_lens*freq, '.b', label = 'SL*SF')\n",
    "# plt.ylim([0,15])\n",
    "plt.xlabel('stride length (mm)')\n",
    "plt.ylabel('stride speed (mm/s)')\n",
    "plt.legend()\n",
    "plt.title('speed = %i mm/s +/- %i, freq = %i Hz'%(v, v_error_factor/2, freq))\n"
   ]
  },
  {
   "cell_type": "code",
   "execution_count": 1538,
   "metadata": {},
   "outputs": [
    {
     "data": {
      "text/plain": [
       "Text(0.5,1,'speed = 10 mm/s +/- 10, length = 2 mm')"
      ]
     },
     "execution_count": 1538,
     "metadata": {},
     "output_type": "execute_result"
    }
   ],
   "source": [
    "n_strides = 1000 # how many strides want to model?\n",
    "\n",
    "# CHANGING VELOCITY, CONSTANT LENGTH\n",
    "\n",
    "v = 10 # mm/s\n",
    "SL = 2 # mm\n",
    "\n",
    "v_error_factor = 20 \n",
    "v_error = np.random.sample(size=n_strides)*v_error_factor-v_error_factor/2\n",
    "vs = v+v_error\n",
    "\n",
    "placement_error_factor = 0.6\n",
    "placement_error = np.random.sample(size=n_strides)*placement_error_factor-placement_error_factor/2\n",
    "\n",
    "leg_positions = np.arange(0,n_strides)*SL\n",
    "body_positions = leg_positions - placement_error\n",
    "TD_times = np.cumsum(np.insert(np.diff(body_positions)/vs[:-1],0,0))\n",
    "stride_lengths = np.diff(leg_positions)\n",
    "dur = np.diff(TD_times)\n",
    "stride_freqs = 1/dur\n",
    "stride_speeds = np.diff(body_positions)/dur\n",
    "\n",
    "# # print(dur, leg_positions)\n",
    "\n",
    "plt.close('all')\n",
    "plt.figure()\n",
    "plt.plot(stride_freqs, stride_speeds, '.k', label = 'actual')\n",
    "# plt.plot(stride_freqs, vs[:-1], '+k', label = 'actual')\n",
    "plt.plot(stride_freqs, stride_lengths/dur, '.b', label = 'SL*SF')\n",
    "plt.xlabel('stride freq (Hz)')\n",
    "plt.ylabel('stride speed (mm/s)')\n",
    "plt.legend()\n",
    "plt.title('speed = %i mm/s +/- %i, length = %i mm'%(v, v_error_factor/2, SL))"
   ]
  },
  {
   "cell_type": "code",
   "execution_count": 1608,
   "metadata": {},
   "outputs": [
    {
     "data": {
      "text/plain": [
       "Text(0.5,1,'speed = 10 mm/s +/- 5, freq = 5 Hz')"
      ]
     },
     "execution_count": 1608,
     "metadata": {},
     "output_type": "execute_result"
    }
   ],
   "source": [
    "# CONTINUOUSLY CHANGING VELOCITY, CONSTANT FREQUENCY\n",
    "\n",
    "n_strides = 1000 # how many strides want to model?\n",
    "\n",
    "v = 10 # mm/s\n",
    "freq = 5 # Hz\n",
    "dur = 1/freq # in seconds\n",
    "\n",
    "placement_error_factor = 0.6\n",
    "placement_error = np.random.sample(size=n_strides)*placement_error_factor-placement_error_factor/2\n",
    "\n",
    "resolution = 100\n",
    "t = np.arange(0,n_strides/freq, 1/resolution)\n",
    "w=2*freq\n",
    "v_error_factor = 10 \n",
    "vs =  v+v_error_factor/2*np.sin(t*w*2*np.pi)+ 3*np.sin(t*w/10*2*np.pi) + 1*np.sin(t*w/30*2*np.pi)\n",
    "\n",
    "\n",
    "TD_times = np.arange(0,n_strides)*dur\n",
    "TD_idcs = (TD_times*resolution).astype(int)\n",
    "body_positions = np.insert(np.cumsum(vs/resolution),0,0)[TD_idcs]\n",
    "leg_positions = body_positions+placement_error\n",
    "\n",
    "stride_lens = np.diff(leg_positions)\n",
    "stride_speeds = np.diff(body_positions)/np.diff(TD_times)\n",
    "stride_vs_ave = (np.cumsum(vs)[TD_idcs][1:]-np.cumsum(vs)[TD_idcs][:-1])/(dur*resolution)\n",
    "SL_by_SF = stride_lens*freq\n",
    "\n",
    "# linear regression of SL*SF\n",
    "from sklearn import linear_model\n",
    "slope, intercept, r_val, p_val, std_err = stats.linregress( stride_lens, SL_by_SF)\n",
    "\n",
    "\n",
    "plt.close('all')\n",
    "\n",
    "# # plot time varying speed\n",
    "plt.figure()\n",
    "plt.plot(t, vs, '-')\n",
    "plt.plot([TD_times[:-1],TD_times[1:]], [stride_vs_ave, stride_vs_ave], '-r')\n",
    "plt.xlim([0,10])\n",
    "plt.ylabel('velocity (mm/s)')\n",
    "plt.xlabel('time (s)')\n",
    "\n",
    "plt.figure()\n",
    "# plt.plot(stride_lens, vs[1:], '.k', label = 'actual')\n",
    "# plt.plot(stride_lens, stride_speeds, '+k', label = 'actual')\n",
    "plt.plot(stride_lens, stride_vs_ave, '+k', label = 'ave of continous v')\n",
    "plt.plot(stride_lens, stride_lens*freq, '.b', label = 'SL*SF')\n",
    "# plt.ylim([0,15])\n",
    "plt.xlabel('stride length (mm)')\n",
    "plt.ylabel('stride speed (mm/s)')\n",
    "plt.text(plt.gca().get_xlim()[1]-1, plt.gca().get_ylim()[0]+1, 'y = %0.2f x + %0.2f'%(slope, intercept), color = 'b')\n",
    "plt.legend()\n",
    "plt.title('speed = %i mm/s +/- %i, freq = %i Hz'%(v, v_error_factor/2, freq))"
   ]
  }
 ],
 "metadata": {
  "kernelspec": {
   "display_name": "Python 3",
   "language": "python",
   "name": "python3"
  },
  "language_info": {
   "codemirror_mode": {
    "name": "ipython",
    "version": 3
   },
   "file_extension": ".py",
   "mimetype": "text/x-python",
   "name": "python",
   "nbconvert_exporter": "python",
   "pygments_lexer": "ipython3",
   "version": "3.6.5"
  }
 },
 "nbformat": 4,
 "nbformat_minor": 2
}
