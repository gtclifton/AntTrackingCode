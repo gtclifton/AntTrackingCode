{
 "cells": [
  {
   "cell_type": "code",
   "execution_count": 20,
   "metadata": {},
   "outputs": [],
   "source": [
    "import os\n",
    "import subprocess\n"
   ]
  },
  {
   "cell_type": "code",
   "execution_count": 30,
   "metadata": {},
   "outputs": [
    {
     "name": "stdout",
     "output_type": "stream",
     "text": [
      "/media/gravishlab/Seagate Expansion Drive/AntTrack/Rugosity_1_41/20171128_201827_16276712.mp4\n"
     ]
    }
   ],
   "source": [
    "inputfile='/media/gravishlab/Seagate Expansion Drive/AntTrack/Rugosity_1_41/20171128_201827_16276712-0000.avi'\n",
    "outputfile=inputfile[:len(inputfile)-9]+'.mp4'\n",
    "print(outputfile)\n"
   ]
  },
  {
   "cell_type": "code",
   "execution_count": 32,
   "metadata": {},
   "outputs": [
    {
     "name": "stdout",
     "output_type": "stream",
     "text": [
      "ffmpeg -i \"/media/gravishlab/Seagate Expansion Drive/AntTrack/Rugosity_1_41/20171128_201827_16276712-0000.avi\" -vcodec libx264 -pix_fmt yuv420p \"/media/gravishlab/Seagate Expansion Drive/AntTrack/Rugosity_1_41/20171128_201827_16276712.mp4\"\n"
     ]
    },
    {
     "data": {
      "text/plain": [
       "0"
      ]
     },
     "execution_count": 32,
     "metadata": {},
     "output_type": "execute_result"
    }
   ],
   "source": [
    "commandstring='ffmpeg -i \"%s\" -vcodec libx264 -pix_fmt yuv420p \"%s\"' % (inputfile, outputfile)\n",
    "print(commandstring)\n",
    "subprocess.call(commandstring, shell=True)\n",
    "\n"
   ]
  },
  {
   "cell_type": "code",
   "execution_count": null,
   "metadata": {},
   "outputs": [],
   "source": []
  }
 ],
 "metadata": {
  "kernelspec": {
   "display_name": "Python 3",
   "language": "python",
   "name": "python3"
  },
  "language_info": {
   "codemirror_mode": {
    "name": "ipython",
    "version": 3
   },
   "file_extension": ".py",
   "mimetype": "text/x-python",
   "name": "python",
   "nbconvert_exporter": "python",
   "pygments_lexer": "ipython3",
   "version": "3.5.2"
  }
 },
 "nbformat": 4,
 "nbformat_minor": 2
}
